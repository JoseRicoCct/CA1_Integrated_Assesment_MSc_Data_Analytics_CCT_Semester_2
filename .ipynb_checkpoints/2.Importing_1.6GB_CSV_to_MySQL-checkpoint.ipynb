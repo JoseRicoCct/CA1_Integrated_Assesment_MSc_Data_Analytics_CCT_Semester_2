{
 "cells": [
  {
   "cell_type": "markdown",
   "id": "c6f1f650",
   "metadata": {},
   "source": [
    "## Importing *people_increased.csv* into `MySQL`."
   ]
  },
  {
   "cell_type": "code",
   "execution_count": 1,
   "id": "8b790e4b",
   "metadata": {},
   "outputs": [],
   "source": [
    "# Importing needed packages.\n",
    "\n",
    "import time                           # Built-in, no version.\n",
    "import pandas as pd                   # Version 2.2.1.\n",
    "from datetime import datetime         # Built-in, no version.\n",
    "from sqlalchemy import create_engine  # Version 2.0.28."
   ]
  },
  {
   "cell_type": "code",
   "execution_count": 2,
   "id": "9ee477fa",
   "metadata": {},
   "outputs": [],
   "source": [
    "start_time = time.time() # Starting time. By timing this operation perfomance is evaluated.\n",
    "\n",
    "# Connection details, these are my credentials and db name, change if you intend to replicate it.\n",
    "user = 'root'\n",
    "password = 'password'\n",
    "host = 'localhost'\n",
    "database = 'people'\n",
    "\n",
    "# Creating the engine for database connection.\n",
    "engine = create_engine(f'mysql+pymysql://{user}:{password}@{host}/{database}')\n",
    "\n",
    "# Specify the chunk size, we need to break it into smaller pieces otherwise system will crash, not enough RAM.\n",
    "chunksize = 10000\n",
    "\n",
    "# Specify the path to your csv file, mine is in the same directory.\n",
    "csv_file = 'people_increased.csv'\n",
    "\n",
    "# Read and insert the data in chunks.\n",
    "for chunk in pd.read_csv(csv_file, chunksize=chunksize):\n",
    "    chunk.to_sql('people_data', con=engine, if_exists='append', index=False)\n",
    "    \n",
    "end_time = time.time() # Stopping the clock."
   ]
  },
  {
   "cell_type": "code",
   "execution_count": 3,
   "id": "17a2ca9a",
   "metadata": {},
   "outputs": [
    {
     "name": "stdout",
     "output_type": "stream",
     "text": [
      "Running time to import a 1.6GB csv into MySQL: 6 minutes 31 seconds\n"
     ]
    }
   ],
   "source": [
    "execution_time = end_time - start_time # Calculating running time.\n",
    "\n",
    "# Convert execution time to minutes and seconds.\n",
    "minutes = int(execution_time // 60)\n",
    "seconds = int(execution_time % 60)\n",
    "\n",
    "print(f\"Running time to import a 1.6GB csv into MySQL: {minutes} minutes {seconds} seconds\")"
   ]
  },
  {
   "cell_type": "markdown",
   "id": "ecb988fe",
   "metadata": {},
   "source": [
    "## Why this script?\n",
    "* ## Given the urgency of uploading a 1.6GB dataset into the schema *people* and the table *people_data*, and facing the issue that the `MySQL Workbench` feature `Data Import` under the `Server` option was not functioning, a solution was imperative for performing the upload into `MySQL`. This script served as the enabler to import the dataset."
   ]
  },
  {
   "cell_type": "markdown",
   "id": "8a9664a1",
   "metadata": {},
   "source": [
    "Due to the recording requirement and the time constraint of 5 to 7 minutes, I'm setting up a timestamp to show the exact time the script was run."
   ]
  },
  {
   "cell_type": "code",
   "execution_count": 4,
   "id": "1683f7f6",
   "metadata": {},
   "outputs": [
    {
     "name": "stdout",
     "output_type": "stream",
     "text": [
      "2.Importing_1.6GB_CSV_to_MySQL.ipynb was last run on: April 05, 2024, 09:44:49\n"
     ]
    }
   ],
   "source": [
    "# Getting current date and time.\n",
    "current_time = datetime.now()\n",
    "\n",
    "# Formatting the date and time in a readable format:\n",
    "formatted_time = current_time.strftime('%B %d, %Y, %H:%M:%S')\n",
    "\n",
    "# Print the formatted date and time.\n",
    "print(f\"2.Importing_1.6GB_CSV_to_MySQL.ipynb was last run on: {formatted_time}\")"
   ]
  }
 ],
 "metadata": {
  "kernelspec": {
   "display_name": "Python 3 (ipykernel)",
   "language": "python",
   "name": "python3"
  },
  "language_info": {
   "codemirror_mode": {
    "name": "ipython",
    "version": 3
   },
   "file_extension": ".py",
   "mimetype": "text/x-python",
   "name": "python",
   "nbconvert_exporter": "python",
   "pygments_lexer": "ipython3",
   "version": "3.10.12"
  }
 },
 "nbformat": 4,
 "nbformat_minor": 5
}
