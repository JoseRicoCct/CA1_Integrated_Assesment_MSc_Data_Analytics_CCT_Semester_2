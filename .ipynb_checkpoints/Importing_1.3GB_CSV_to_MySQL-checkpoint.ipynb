{
 "cells": [
  {
   "cell_type": "code",
   "execution_count": null,
   "id": "9ee477fa",
   "metadata": {},
   "outputs": [],
   "source": [
    "import pandas as pd\n",
    "from sqlalchemy import create_engine\n",
    "from IPython.utils import io\n",
    "start_time = time.time()\n",
    "\n",
    "# Connection details\n",
    "user = 'root'\n",
    "password = 'hola'\n",
    "host = 'localhost'\n",
    "database = 'customers'\n",
    "\n",
    "# Create a database connection\n",
    "engine = create_engine(f'mysql+pymysql://{user}:{password}@{host}/{database}')\n",
    "\n",
    "# Specify the chunk size\n",
    "chunksize = 10000  # Adjust based on your needs and system capabilities\n",
    "\n",
    "# Path to your CSV file\n",
    "csv_file = 'C:/ProgramData/MySQL/MySQL Server 8.0/Uploads/customers.csv'\n",
    "\n",
    "# Read and insert the data in chunks\n",
    "for chunk in pd.read_csv(csv_file, chunksize=chunksize):\n",
    "    chunk.to_sql('customer_data', con=engine, if_exists='append', index=False)"
   ]
  },
  {
   "cell_type": "code",
   "execution_count": null,
   "id": "0b7f7bbc",
   "metadata": {},
   "outputs": [],
   "source": [
    "end_time = time.time()\n",
    "execution_time = end_time - start_time\n",
    "\n",
    "# Convert execution time to minutes and seconds\n",
    "minutes = int(execution_time // 60)\n",
    "seconds = int(execution_time % 60)\n",
    "\n",
    "print(f\"Total execution time: {minutes} minutes {seconds} seconds\")"
   ]
  }
 ],
 "metadata": {
  "kernelspec": {
   "display_name": "Python 3 (ipykernel)",
   "language": "python",
   "name": "python3"
  },
  "language_info": {
   "codemirror_mode": {
    "name": "ipython",
    "version": 3
   },
   "file_extension": ".py",
   "mimetype": "text/x-python",
   "name": "python",
   "nbconvert_exporter": "python",
   "pygments_lexer": "ipython3",
   "version": "3.11.5"
  }
 },
 "nbformat": 4,
 "nbformat_minor": 5
}
