{
 "cells": [
  {
   "cell_type": "code",
   "execution_count": 1,
   "id": "007cbddb",
   "metadata": {},
   "outputs": [],
   "source": [
    "from pyspark.sql import SparkSession\n",
    "\n",
    "\n",
    "# Initialize SparkSession\n",
    "spark = SparkSession.builder \\\n",
    "    .appName(\"Create Database from JSON\") \\\n",
    "    .getOrCreate()\n",
    "\n",
    "spark.conf.set(\"spark.sql.execution.arrow.pyspark.enabled\", \"true\")\n",
    "\n",
    "# Read JSON file into DataFrame\n",
    "df = spark.read.format(\"json\") \\\n",
    "    .load(r\"C:\\Users\\jose\\Downloads\\goodreads_reviews_fantasy_paranormal.json\")\n",
    "\n",
    "# Create a database\n",
    "spark.sql(\"CREATE DATABASE IF NOT EXISTS goodreads_reviews\")\n",
    "\n",
    "# Use the database\n",
    "spark.sql(\"USE goodreads_reviews\")\n",
    "\n",
    "# Save DataFrame as a table in the database\n",
    "df.write.mode(\"overwrite\").saveAsTable(\"reviews\")\n",
    "\n",
    "# Save DataFrame as a table in a database\n",
    "df.write.mode(\"overwrite\").saveAsTable(\"goodreads_reviews.reviews\")\n"
   ]
  },
  {
   "cell_type": "code",
   "execution_count": 2,
   "id": "3f8f7cf5",
   "metadata": {},
   "outputs": [
    {
     "name": "stdout",
     "output_type": "stream",
     "text": [
      "+--------+--------------------+--------------------+----------+-------+------+--------------------+--------------------+--------------------+--------------------+--------------------+\n",
      "| book_id|          date_added|        date_updated|n_comments|n_votes|rating|             read_at|           review_id|         review_text|          started_at|             user_id|\n",
      "+--------+--------------------+--------------------+----------+-------+------+--------------------+--------------------+--------------------+--------------------+--------------------+\n",
      "|26079201|Sun Nov 27 20:03:...|Sat Feb 04 03:09:...|         0|      0|     4|Tue Nov 29 00:00:...|ccca1430b2b25b44c...|Thank you to Raye...|Sun Nov 27 00:00:...|d043e5bbcc1135529...|\n",
      "|31207141|Tue Nov 22 03:41:...|Sat Jan 28 09:50:...|         0|      2|     4|Fri Jan 27 00:00:...|e31bd4dc601d662b4...|Review also poste...|Wed Jan 25 00:00:...|d043e5bbcc1135529...|\n",
      "|25151797|Fri Nov 04 19:45:...|Tue Nov 22 01:20:...|         0|      0|     3|Mon Nov 21 00:00:...|4583dd8f12dd00735...|Review also poste...|Fri Nov 18 00:00:...|d043e5bbcc1135529...|\n",
      "|31342605|Fri Nov 04 19:45:...|Sat Nov 26 19:23:...|         0|      0|     4|Wed Nov 23 00:00:...|556c7364116af51e2...|Review also poste...|Mon Nov 21 00:00:...|d043e5bbcc1135529...|\n",
      "|32608639|Sun Oct 30 20:45:...|Sun Oct 30 20:46:...|         1|      1|     5|Sat Oct 29 00:00:...|65005bc2b4bfc86bc...|Review also poste...|                    |d043e5bbcc1135529...|\n",
      "|28114396|Wed Oct 12 17:06:...|Sat Jan 21 11:43:...|         0|      0|     4|Fri Jan 20 00:00:...|9cc90e511ff1108af...|Review also poste...|Wed Jan 18 00:00:...|d043e5bbcc1135529...|\n",
      "|31349010|Mon Sep 19 17:13:...|Mon Sep 19 17:14:...|         0|      1|     5|Mon Sep 19 00:00:...|a6bd36edd3c876b0e...|Review also poste...|Mon Sep 19 00:00:...|d043e5bbcc1135529...|\n",
      "|26219455|Thu Sep 15 23:58:...|Sat Apr 22 03:48:...|         0|      0|     5|Wed Apr 19 00:34:...|33c6cfa7baaf44820...|Review also poste...|Tue Apr 18 17:56:...|d043e5bbcc1135529...|\n",
      "|31849588|Wed Aug 24 11:07:...|Sun Oct 30 06:10:...|         0|      0|     5|Tue Aug 23 00:00:...|21404647c030da430...|Review also poste...|                    |d043e5bbcc1135529...|\n",
      "|31849587|Fri Aug 19 10:10:...|Sun Oct 30 06:12:...|         0|      0|     5|Thu Aug 18 00:00:...|791ff07632260f9cf...|Review also poste...|                    |d043e5bbcc1135529...|\n",
      "|31835951|Tue Aug 09 06:55:...|Sun Oct 30 06:17:...|         0|      0|     4|Tue Aug 09 06:56:...|0fbda0d98079423cd...|Review also poste...|                    |d043e5bbcc1135529...|\n",
      "|23014836|Mon Aug 08 13:21:...|Wed Jul 12 03:23:...|         0|      2|     3|Wed Jul 12 03:23:...|64791cf630aaa7f12...|Review also poste...|Mon Jun 26 00:00:...|d043e5bbcc1135529...|\n",
      "|28235555|Wed Jul 20 02:30:...|Sun Oct 23 20:17:...|         0|      0|     5|Fri Jan 01 00:00:...|c793914cfdca58d99...|Review also poste...|                    |d043e5bbcc1135529...|\n",
      "|26805518|Sat Jun 11 00:06:...|Sat Jun 11 00:07:...|         0|      0|     4|Fri Jun 10 00:00:...|a67545cf06d8da1e4...|Review also poste...|                    |d043e5bbcc1135529...|\n",
      "|29546138|Wed Jun 08 20:52:...|Thu Jun 09 14:16:...|         1|      0|     3|                    |80f5c64f78bca517f...|Review also poste...|                    |d043e5bbcc1135529...|\n",
      "|26114202|Fri May 20 14:38:...|Fri Aug 05 02:36:...|         0|      0|     4|Fri Aug 05 02:36:...|169949fdef1dc0edd...|Review also poste...|                    |d043e5bbcc1135529...|\n",
      "|18584855|Tue May 17 17:53:...|Wed Feb 15 05:43:...|         0|      0|     5|Sun Feb 12 00:00:...|ff66bf556d1fa3b8f...| Review coming soon!|Fri Feb 10 00:00:...|d043e5bbcc1135529...|\n",
      "|29569157|Fri May 13 18:48:...|Fri Jul 08 20:29:...|         0|      0|     4|Thu Jul 07 00:00:...|578f91919305641ff...|Review also poste...|Thu Jul 07 00:00:...|d043e5bbcc1135529...|\n",
      "|27396942|Wed May 11 00:59:...|Tue Jul 26 21:51:...|         0|      0|     3|Wed Jul 27 21:51:...|4b0aefe36122fd9c3...|Review also poste...|                    |d043e5bbcc1135529...|\n",
      "|26114621|Sun Mar 06 10:00:...|Wed May 04 02:13:...|         0|      0|     5|                    |69b9fe740a3d4a2c5...|Review also poste...|                    |d043e5bbcc1135529...|\n",
      "+--------+--------------------+--------------------+----------+-------+------+--------------------+--------------------+--------------------+--------------------+--------------------+\n",
      "only showing top 20 rows\n",
      "\n"
     ]
    }
   ],
   "source": [
    "# Use the database\n",
    "spark.sql(\"USE goodreads_reviews\")\n",
    "\n",
    "# Query the data from the table\n",
    "result = spark.sql(\"SELECT * FROM reviews\")\n",
    "\n",
    "# Show the result\n",
    "result.show()\n"
   ]
  },
  {
   "cell_type": "code",
   "execution_count": 3,
   "id": "775514f4",
   "metadata": {},
   "outputs": [],
   "source": [
    "# Save DataFrame as parquet files (a columnar storage format) in a directory\n",
    "df.write.mode(\"overwrite\").parquet(r\"C:\\Users\\jose\\OneDrive - Dublin Business School (DBS)\\Desktop\\CA1_Integrated_Assesment_MSc_Data_Analytics_CCT_Semester_2\\parquet_2\")\n",
    "\n",
    "# Register the DataFrame as a temporary view\n",
    "df.createOrReplaceTempView(\"reviews\")"
   ]
  },
  {
   "cell_type": "code",
   "execution_count": 1,
   "id": "5106885a",
   "metadata": {},
   "outputs": [
    {
     "data": {
      "text/plain": [
       "DataFrame[]"
      ]
     },
     "execution_count": 1,
     "metadata": {},
     "output_type": "execute_result"
    }
   ],
   "source": [
    "from pyspark.sql import SparkSession\n",
    "\n",
    "# Initialize SparkSession\n",
    "spark = SparkSession.builder \\\n",
    "    .appName(\"Create Database from Parquet\") \\\n",
    "    .config(\"spark.driver.memory\", \"8g\") \\\n",
    "    .getOrCreate()\n",
    "\n",
    "# Create a database\n",
    "spark.sql(\"CREATE DATABASE IF NOT EXISTS goodreads_reviews\")\n",
    "\n",
    "# Select the database\n",
    "spark.sql(\"USE goodreads_reviews\")\n",
    "\n",
    "# Save DataFrame as a table in the database\n",
    "spark.sql(\"CREATE TABLE IF NOT EXISTS reviews USING parquet OPTIONS (PATH 'C:/Users/jose/OneDrive - Dublin Business School (DBS)/Desktop/CA1_Integrated_Assesment_MSc_Data_Analytics_CCT_Semester_2/parquet_2')\")\n"
   ]
  },
  {
   "cell_type": "code",
   "execution_count": 2,
   "id": "2ca8b4e5",
   "metadata": {},
   "outputs": [
    {
     "name": "stdout",
     "output_type": "stream",
     "text": [
      "+-----------------+---------+-----------+\n",
      "|        namespace|tableName|isTemporary|\n",
      "+-----------------+---------+-----------+\n",
      "|goodreads_reviews|  reviews|      false|\n",
      "+-----------------+---------+-----------+\n",
      "\n"
     ]
    }
   ],
   "source": [
    "# Show tables in the current schema\n",
    "spark.sql(\"SHOW TABLES\").show()"
   ]
  },
  {
   "cell_type": "code",
   "execution_count": null,
   "id": "91116bf6",
   "metadata": {},
   "outputs": [],
   "source": []
  },
  {
   "cell_type": "code",
   "execution_count": 3,
   "id": "d45ced18",
   "metadata": {},
   "outputs": [
    {
     "name": "stdout",
     "output_type": "stream",
     "text": [
      "+--------+--------------------+--------------------+----------+-------+------+--------------------+--------------------+--------------------+--------------------+--------------------+\n",
      "| book_id|          date_added|        date_updated|n_comments|n_votes|rating|             read_at|           review_id|         review_text|          started_at|             user_id|\n",
      "+--------+--------------------+--------------------+----------+-------+------+--------------------+--------------------+--------------------+--------------------+--------------------+\n",
      "|26079201|Sun Nov 27 20:03:...|Sat Feb 04 03:09:...|         0|      0|     4|Tue Nov 29 00:00:...|ccca1430b2b25b44c...|Thank you to Raye...|Sun Nov 27 00:00:...|d043e5bbcc1135529...|\n",
      "|31207141|Tue Nov 22 03:41:...|Sat Jan 28 09:50:...|         0|      2|     4|Fri Jan 27 00:00:...|e31bd4dc601d662b4...|Review also poste...|Wed Jan 25 00:00:...|d043e5bbcc1135529...|\n",
      "|25151797|Fri Nov 04 19:45:...|Tue Nov 22 01:20:...|         0|      0|     3|Mon Nov 21 00:00:...|4583dd8f12dd00735...|Review also poste...|Fri Nov 18 00:00:...|d043e5bbcc1135529...|\n",
      "|31342605|Fri Nov 04 19:45:...|Sat Nov 26 19:23:...|         0|      0|     4|Wed Nov 23 00:00:...|556c7364116af51e2...|Review also poste...|Mon Nov 21 00:00:...|d043e5bbcc1135529...|\n",
      "|32608639|Sun Oct 30 20:45:...|Sun Oct 30 20:46:...|         1|      1|     5|Sat Oct 29 00:00:...|65005bc2b4bfc86bc...|Review also poste...|                    |d043e5bbcc1135529...|\n",
      "|28114396|Wed Oct 12 17:06:...|Sat Jan 21 11:43:...|         0|      0|     4|Fri Jan 20 00:00:...|9cc90e511ff1108af...|Review also poste...|Wed Jan 18 00:00:...|d043e5bbcc1135529...|\n",
      "|31349010|Mon Sep 19 17:13:...|Mon Sep 19 17:14:...|         0|      1|     5|Mon Sep 19 00:00:...|a6bd36edd3c876b0e...|Review also poste...|Mon Sep 19 00:00:...|d043e5bbcc1135529...|\n",
      "|26219455|Thu Sep 15 23:58:...|Sat Apr 22 03:48:...|         0|      0|     5|Wed Apr 19 00:34:...|33c6cfa7baaf44820...|Review also poste...|Tue Apr 18 17:56:...|d043e5bbcc1135529...|\n",
      "|31849588|Wed Aug 24 11:07:...|Sun Oct 30 06:10:...|         0|      0|     5|Tue Aug 23 00:00:...|21404647c030da430...|Review also poste...|                    |d043e5bbcc1135529...|\n",
      "|31849587|Fri Aug 19 10:10:...|Sun Oct 30 06:12:...|         0|      0|     5|Thu Aug 18 00:00:...|791ff07632260f9cf...|Review also poste...|                    |d043e5bbcc1135529...|\n",
      "|31835951|Tue Aug 09 06:55:...|Sun Oct 30 06:17:...|         0|      0|     4|Tue Aug 09 06:56:...|0fbda0d98079423cd...|Review also poste...|                    |d043e5bbcc1135529...|\n",
      "|23014836|Mon Aug 08 13:21:...|Wed Jul 12 03:23:...|         0|      2|     3|Wed Jul 12 03:23:...|64791cf630aaa7f12...|Review also poste...|Mon Jun 26 00:00:...|d043e5bbcc1135529...|\n",
      "|28235555|Wed Jul 20 02:30:...|Sun Oct 23 20:17:...|         0|      0|     5|Fri Jan 01 00:00:...|c793914cfdca58d99...|Review also poste...|                    |d043e5bbcc1135529...|\n",
      "|26805518|Sat Jun 11 00:06:...|Sat Jun 11 00:07:...|         0|      0|     4|Fri Jun 10 00:00:...|a67545cf06d8da1e4...|Review also poste...|                    |d043e5bbcc1135529...|\n",
      "|29546138|Wed Jun 08 20:52:...|Thu Jun 09 14:16:...|         1|      0|     3|                    |80f5c64f78bca517f...|Review also poste...|                    |d043e5bbcc1135529...|\n",
      "|26114202|Fri May 20 14:38:...|Fri Aug 05 02:36:...|         0|      0|     4|Fri Aug 05 02:36:...|169949fdef1dc0edd...|Review also poste...|                    |d043e5bbcc1135529...|\n",
      "|18584855|Tue May 17 17:53:...|Wed Feb 15 05:43:...|         0|      0|     5|Sun Feb 12 00:00:...|ff66bf556d1fa3b8f...| Review coming soon!|Fri Feb 10 00:00:...|d043e5bbcc1135529...|\n",
      "|29569157|Fri May 13 18:48:...|Fri Jul 08 20:29:...|         0|      0|     4|Thu Jul 07 00:00:...|578f91919305641ff...|Review also poste...|Thu Jul 07 00:00:...|d043e5bbcc1135529...|\n",
      "|27396942|Wed May 11 00:59:...|Tue Jul 26 21:51:...|         0|      0|     3|Wed Jul 27 21:51:...|4b0aefe36122fd9c3...|Review also poste...|                    |d043e5bbcc1135529...|\n",
      "|26114621|Sun Mar 06 10:00:...|Wed May 04 02:13:...|         0|      0|     5|                    |69b9fe740a3d4a2c5...|Review also poste...|                    |d043e5bbcc1135529...|\n",
      "+--------+--------------------+--------------------+----------+-------+------+--------------------+--------------------+--------------------+--------------------+--------------------+\n",
      "only showing top 20 rows\n",
      "\n"
     ]
    }
   ],
   "source": [
    "# Use the database\n",
    "spark.sql(\"USE goodreads_reviews\")\n",
    "\n",
    "# Query the data from the table\n",
    "result = spark.sql(\"SELECT * FROM reviews\")\n",
    "\n",
    "# Show the result\n",
    "result.show()\n"
   ]
  },
  {
   "cell_type": "code",
   "execution_count": 4,
   "id": "a17ea380",
   "metadata": {},
   "outputs": [
    {
     "ename": "Py4JJavaError",
     "evalue": "An error occurred while calling o49.collectToPython.\n: org.apache.spark.SparkException: Job aborted due to stage failure: Task 0 in stage 2.0 failed 1 times, most recent failure: Lost task 0.0 in stage 2.0 (TID 2) (DESKTOP-IK25UHA executor driver): TaskResultLost (result lost from block manager)\nDriver stacktrace:\r\n\tat org.apache.spark.scheduler.DAGScheduler.failJobAndIndependentStages(DAGScheduler.scala:2856)\r\n\tat org.apache.spark.scheduler.DAGScheduler.$anonfun$abortStage$2(DAGScheduler.scala:2792)\r\n\tat org.apache.spark.scheduler.DAGScheduler.$anonfun$abortStage$2$adapted(DAGScheduler.scala:2791)\r\n\tat scala.collection.mutable.ResizableArray.foreach(ResizableArray.scala:62)\r\n\tat scala.collection.mutable.ResizableArray.foreach$(ResizableArray.scala:55)\r\n\tat scala.collection.mutable.ArrayBuffer.foreach(ArrayBuffer.scala:49)\r\n\tat org.apache.spark.scheduler.DAGScheduler.abortStage(DAGScheduler.scala:2791)\r\n\tat org.apache.spark.scheduler.DAGScheduler.$anonfun$handleTaskSetFailed$1(DAGScheduler.scala:1247)\r\n\tat org.apache.spark.scheduler.DAGScheduler.$anonfun$handleTaskSetFailed$1$adapted(DAGScheduler.scala:1247)\r\n\tat scala.Option.foreach(Option.scala:407)\r\n\tat org.apache.spark.scheduler.DAGScheduler.handleTaskSetFailed(DAGScheduler.scala:1247)\r\n\tat org.apache.spark.scheduler.DAGSchedulerEventProcessLoop.doOnReceive(DAGScheduler.scala:3060)\r\n\tat org.apache.spark.scheduler.DAGSchedulerEventProcessLoop.onReceive(DAGScheduler.scala:2994)\r\n\tat org.apache.spark.scheduler.DAGSchedulerEventProcessLoop.onReceive(DAGScheduler.scala:2983)\r\n\tat org.apache.spark.util.EventLoop$$anon$1.run(EventLoop.scala:49)\r\n\tat org.apache.spark.scheduler.DAGScheduler.runJob(DAGScheduler.scala:989)\r\n\tat org.apache.spark.SparkContext.runJob(SparkContext.scala:2398)\r\n\tat org.apache.spark.SparkContext.runJob(SparkContext.scala:2419)\r\n\tat org.apache.spark.SparkContext.runJob(SparkContext.scala:2438)\r\n\tat org.apache.spark.SparkContext.runJob(SparkContext.scala:2463)\r\n\tat org.apache.spark.rdd.RDD.$anonfun$collect$1(RDD.scala:1049)\r\n\tat org.apache.spark.rdd.RDDOperationScope$.withScope(RDDOperationScope.scala:151)\r\n\tat org.apache.spark.rdd.RDDOperationScope$.withScope(RDDOperationScope.scala:112)\r\n\tat org.apache.spark.rdd.RDD.withScope(RDD.scala:410)\r\n\tat org.apache.spark.rdd.RDD.collect(RDD.scala:1048)\r\n\tat org.apache.spark.sql.execution.SparkPlan.executeCollect(SparkPlan.scala:448)\r\n\tat org.apache.spark.sql.Dataset.$anonfun$collectToPython$1(Dataset.scala:4148)\r\n\tat org.apache.spark.sql.Dataset.$anonfun$withAction$2(Dataset.scala:4322)\r\n\tat org.apache.spark.sql.execution.QueryExecution$.withInternalError(QueryExecution.scala:546)\r\n\tat org.apache.spark.sql.Dataset.$anonfun$withAction$1(Dataset.scala:4320)\r\n\tat org.apache.spark.sql.execution.SQLExecution$.$anonfun$withNewExecutionId$6(SQLExecution.scala:125)\r\n\tat org.apache.spark.sql.execution.SQLExecution$.withSQLConfPropagated(SQLExecution.scala:201)\r\n\tat org.apache.spark.sql.execution.SQLExecution$.$anonfun$withNewExecutionId$1(SQLExecution.scala:108)\r\n\tat org.apache.spark.sql.SparkSession.withActive(SparkSession.scala:900)\r\n\tat org.apache.spark.sql.execution.SQLExecution$.withNewExecutionId(SQLExecution.scala:66)\r\n\tat org.apache.spark.sql.Dataset.withAction(Dataset.scala:4320)\r\n\tat org.apache.spark.sql.Dataset.collectToPython(Dataset.scala:4145)\r\n\tat java.base/jdk.internal.reflect.NativeMethodAccessorImpl.invoke0(Native Method)\r\n\tat java.base/jdk.internal.reflect.NativeMethodAccessorImpl.invoke(NativeMethodAccessorImpl.java:75)\r\n\tat java.base/jdk.internal.reflect.DelegatingMethodAccessorImpl.invoke(DelegatingMethodAccessorImpl.java:52)\r\n\tat java.base/java.lang.reflect.Method.invoke(Method.java:580)\r\n\tat py4j.reflection.MethodInvoker.invoke(MethodInvoker.java:244)\r\n\tat py4j.reflection.ReflectionEngine.invoke(ReflectionEngine.java:374)\r\n\tat py4j.Gateway.invoke(Gateway.java:282)\r\n\tat py4j.commands.AbstractCommand.invokeMethod(AbstractCommand.java:132)\r\n\tat py4j.commands.CallCommand.execute(CallCommand.java:79)\r\n\tat py4j.ClientServerConnection.waitForCommands(ClientServerConnection.java:182)\r\n\tat py4j.ClientServerConnection.run(ClientServerConnection.java:106)\r\n\tat java.base/java.lang.Thread.run(Thread.java:1583)\r\n",
     "output_type": "error",
     "traceback": [
      "\u001b[1;31m---------------------------------------------------------------------------\u001b[0m",
      "\u001b[1;31mPy4JJavaError\u001b[0m                             Traceback (most recent call last)",
      "Cell \u001b[1;32mIn[4], line 8\u001b[0m\n\u001b[0;32m      6\u001b[0m \u001b[38;5;66;03m# Convert Spark DataFrame to Pandas DataFrame in chunks\u001b[39;00m\n\u001b[0;32m      7\u001b[0m reviews_pandas_chunks \u001b[38;5;241m=\u001b[39m []\n\u001b[1;32m----> 8\u001b[0m \u001b[38;5;28;01mfor\u001b[39;00m chunk \u001b[38;5;129;01min\u001b[39;00m result\u001b[38;5;241m.\u001b[39mtoPandas()\u001b[38;5;241m.\u001b[39mto_numpy()\u001b[38;5;241m.\u001b[39mreshape(\u001b[38;5;241m-\u001b[39m\u001b[38;5;241m1\u001b[39m, chunk_size):\n\u001b[0;32m      9\u001b[0m     pandas_chunk \u001b[38;5;241m=\u001b[39m pd\u001b[38;5;241m.\u001b[39mDataFrame(chunk, columns\u001b[38;5;241m=\u001b[39mresult\u001b[38;5;241m.\u001b[39mcolumns)\n\u001b[0;32m     10\u001b[0m     reviews_pandas_chunks\u001b[38;5;241m.\u001b[39mappend(pandas_chunk)\n",
      "File \u001b[1;32m~\\anaconda3\\Lib\\site-packages\\pyspark\\sql\\pandas\\conversion.py:202\u001b[0m, in \u001b[0;36mPandasConversionMixin.toPandas\u001b[1;34m(self)\u001b[0m\n\u001b[0;32m    199\u001b[0m             \u001b[38;5;28;01mraise\u001b[39;00m\n\u001b[0;32m    201\u001b[0m \u001b[38;5;66;03m# Below is toPandas without Arrow optimization.\u001b[39;00m\n\u001b[1;32m--> 202\u001b[0m rows \u001b[38;5;241m=\u001b[39m \u001b[38;5;28mself\u001b[39m\u001b[38;5;241m.\u001b[39mcollect()\n\u001b[0;32m    203\u001b[0m \u001b[38;5;28;01mif\u001b[39;00m \u001b[38;5;28mlen\u001b[39m(rows) \u001b[38;5;241m>\u001b[39m \u001b[38;5;241m0\u001b[39m:\n\u001b[0;32m    204\u001b[0m     pdf \u001b[38;5;241m=\u001b[39m pd\u001b[38;5;241m.\u001b[39mDataFrame\u001b[38;5;241m.\u001b[39mfrom_records(\n\u001b[0;32m    205\u001b[0m         rows, index\u001b[38;5;241m=\u001b[39m\u001b[38;5;28mrange\u001b[39m(\u001b[38;5;28mlen\u001b[39m(rows)), columns\u001b[38;5;241m=\u001b[39m\u001b[38;5;28mself\u001b[39m\u001b[38;5;241m.\u001b[39mcolumns  \u001b[38;5;66;03m# type: ignore[arg-type]\u001b[39;00m\n\u001b[0;32m    206\u001b[0m     )\n",
      "File \u001b[1;32m~\\anaconda3\\Lib\\site-packages\\pyspark\\sql\\dataframe.py:1261\u001b[0m, in \u001b[0;36mDataFrame.collect\u001b[1;34m(self)\u001b[0m\n\u001b[0;32m   1241\u001b[0m \u001b[38;5;250m\u001b[39m\u001b[38;5;124;03m\"\"\"Returns all the records as a list of :class:`Row`.\u001b[39;00m\n\u001b[0;32m   1242\u001b[0m \n\u001b[0;32m   1243\u001b[0m \u001b[38;5;124;03m.. versionadded:: 1.3.0\u001b[39;00m\n\u001b[1;32m   (...)\u001b[0m\n\u001b[0;32m   1258\u001b[0m \u001b[38;5;124;03m[Row(age=14, name='Tom'), Row(age=23, name='Alice'), Row(age=16, name='Bob')]\u001b[39;00m\n\u001b[0;32m   1259\u001b[0m \u001b[38;5;124;03m\"\"\"\u001b[39;00m\n\u001b[0;32m   1260\u001b[0m \u001b[38;5;28;01mwith\u001b[39;00m SCCallSiteSync(\u001b[38;5;28mself\u001b[39m\u001b[38;5;241m.\u001b[39m_sc):\n\u001b[1;32m-> 1261\u001b[0m     sock_info \u001b[38;5;241m=\u001b[39m \u001b[38;5;28mself\u001b[39m\u001b[38;5;241m.\u001b[39m_jdf\u001b[38;5;241m.\u001b[39mcollectToPython()\n\u001b[0;32m   1262\u001b[0m \u001b[38;5;28;01mreturn\u001b[39;00m \u001b[38;5;28mlist\u001b[39m(_load_from_socket(sock_info, BatchedSerializer(CPickleSerializer())))\n",
      "File \u001b[1;32m~\\anaconda3\\Lib\\site-packages\\py4j\\java_gateway.py:1322\u001b[0m, in \u001b[0;36mJavaMember.__call__\u001b[1;34m(self, *args)\u001b[0m\n\u001b[0;32m   1316\u001b[0m command \u001b[38;5;241m=\u001b[39m proto\u001b[38;5;241m.\u001b[39mCALL_COMMAND_NAME \u001b[38;5;241m+\u001b[39m\\\n\u001b[0;32m   1317\u001b[0m     \u001b[38;5;28mself\u001b[39m\u001b[38;5;241m.\u001b[39mcommand_header \u001b[38;5;241m+\u001b[39m\\\n\u001b[0;32m   1318\u001b[0m     args_command \u001b[38;5;241m+\u001b[39m\\\n\u001b[0;32m   1319\u001b[0m     proto\u001b[38;5;241m.\u001b[39mEND_COMMAND_PART\n\u001b[0;32m   1321\u001b[0m answer \u001b[38;5;241m=\u001b[39m \u001b[38;5;28mself\u001b[39m\u001b[38;5;241m.\u001b[39mgateway_client\u001b[38;5;241m.\u001b[39msend_command(command)\n\u001b[1;32m-> 1322\u001b[0m return_value \u001b[38;5;241m=\u001b[39m get_return_value(\n\u001b[0;32m   1323\u001b[0m     answer, \u001b[38;5;28mself\u001b[39m\u001b[38;5;241m.\u001b[39mgateway_client, \u001b[38;5;28mself\u001b[39m\u001b[38;5;241m.\u001b[39mtarget_id, \u001b[38;5;28mself\u001b[39m\u001b[38;5;241m.\u001b[39mname)\n\u001b[0;32m   1325\u001b[0m \u001b[38;5;28;01mfor\u001b[39;00m temp_arg \u001b[38;5;129;01min\u001b[39;00m temp_args:\n\u001b[0;32m   1326\u001b[0m     \u001b[38;5;28;01mif\u001b[39;00m \u001b[38;5;28mhasattr\u001b[39m(temp_arg, \u001b[38;5;124m\"\u001b[39m\u001b[38;5;124m_detach\u001b[39m\u001b[38;5;124m\"\u001b[39m):\n",
      "File \u001b[1;32m~\\anaconda3\\Lib\\site-packages\\pyspark\\errors\\exceptions\\captured.py:179\u001b[0m, in \u001b[0;36mcapture_sql_exception.<locals>.deco\u001b[1;34m(*a, **kw)\u001b[0m\n\u001b[0;32m    177\u001b[0m \u001b[38;5;28;01mdef\u001b[39;00m \u001b[38;5;21mdeco\u001b[39m(\u001b[38;5;241m*\u001b[39ma: Any, \u001b[38;5;241m*\u001b[39m\u001b[38;5;241m*\u001b[39mkw: Any) \u001b[38;5;241m-\u001b[39m\u001b[38;5;241m>\u001b[39m Any:\n\u001b[0;32m    178\u001b[0m     \u001b[38;5;28;01mtry\u001b[39;00m:\n\u001b[1;32m--> 179\u001b[0m         \u001b[38;5;28;01mreturn\u001b[39;00m f(\u001b[38;5;241m*\u001b[39ma, \u001b[38;5;241m*\u001b[39m\u001b[38;5;241m*\u001b[39mkw)\n\u001b[0;32m    180\u001b[0m     \u001b[38;5;28;01mexcept\u001b[39;00m Py4JJavaError \u001b[38;5;28;01mas\u001b[39;00m e:\n\u001b[0;32m    181\u001b[0m         converted \u001b[38;5;241m=\u001b[39m convert_exception(e\u001b[38;5;241m.\u001b[39mjava_exception)\n",
      "File \u001b[1;32m~\\anaconda3\\Lib\\site-packages\\py4j\\protocol.py:326\u001b[0m, in \u001b[0;36mget_return_value\u001b[1;34m(answer, gateway_client, target_id, name)\u001b[0m\n\u001b[0;32m    324\u001b[0m value \u001b[38;5;241m=\u001b[39m OUTPUT_CONVERTER[\u001b[38;5;28mtype\u001b[39m](answer[\u001b[38;5;241m2\u001b[39m:], gateway_client)\n\u001b[0;32m    325\u001b[0m \u001b[38;5;28;01mif\u001b[39;00m answer[\u001b[38;5;241m1\u001b[39m] \u001b[38;5;241m==\u001b[39m REFERENCE_TYPE:\n\u001b[1;32m--> 326\u001b[0m     \u001b[38;5;28;01mraise\u001b[39;00m Py4JJavaError(\n\u001b[0;32m    327\u001b[0m         \u001b[38;5;124m\"\u001b[39m\u001b[38;5;124mAn error occurred while calling \u001b[39m\u001b[38;5;132;01m{0}\u001b[39;00m\u001b[38;5;132;01m{1}\u001b[39;00m\u001b[38;5;132;01m{2}\u001b[39;00m\u001b[38;5;124m.\u001b[39m\u001b[38;5;130;01m\\n\u001b[39;00m\u001b[38;5;124m\"\u001b[39m\u001b[38;5;241m.\u001b[39m\n\u001b[0;32m    328\u001b[0m         \u001b[38;5;28mformat\u001b[39m(target_id, \u001b[38;5;124m\"\u001b[39m\u001b[38;5;124m.\u001b[39m\u001b[38;5;124m\"\u001b[39m, name), value)\n\u001b[0;32m    329\u001b[0m \u001b[38;5;28;01melse\u001b[39;00m:\n\u001b[0;32m    330\u001b[0m     \u001b[38;5;28;01mraise\u001b[39;00m Py4JError(\n\u001b[0;32m    331\u001b[0m         \u001b[38;5;124m\"\u001b[39m\u001b[38;5;124mAn error occurred while calling \u001b[39m\u001b[38;5;132;01m{0}\u001b[39;00m\u001b[38;5;132;01m{1}\u001b[39;00m\u001b[38;5;132;01m{2}\u001b[39;00m\u001b[38;5;124m. Trace:\u001b[39m\u001b[38;5;130;01m\\n\u001b[39;00m\u001b[38;5;132;01m{3}\u001b[39;00m\u001b[38;5;130;01m\\n\u001b[39;00m\u001b[38;5;124m\"\u001b[39m\u001b[38;5;241m.\u001b[39m\n\u001b[0;32m    332\u001b[0m         \u001b[38;5;28mformat\u001b[39m(target_id, \u001b[38;5;124m\"\u001b[39m\u001b[38;5;124m.\u001b[39m\u001b[38;5;124m\"\u001b[39m, name, value))\n",
      "\u001b[1;31mPy4JJavaError\u001b[0m: An error occurred while calling o49.collectToPython.\n: org.apache.spark.SparkException: Job aborted due to stage failure: Task 0 in stage 2.0 failed 1 times, most recent failure: Lost task 0.0 in stage 2.0 (TID 2) (DESKTOP-IK25UHA executor driver): TaskResultLost (result lost from block manager)\nDriver stacktrace:\r\n\tat org.apache.spark.scheduler.DAGScheduler.failJobAndIndependentStages(DAGScheduler.scala:2856)\r\n\tat org.apache.spark.scheduler.DAGScheduler.$anonfun$abortStage$2(DAGScheduler.scala:2792)\r\n\tat org.apache.spark.scheduler.DAGScheduler.$anonfun$abortStage$2$adapted(DAGScheduler.scala:2791)\r\n\tat scala.collection.mutable.ResizableArray.foreach(ResizableArray.scala:62)\r\n\tat scala.collection.mutable.ResizableArray.foreach$(ResizableArray.scala:55)\r\n\tat scala.collection.mutable.ArrayBuffer.foreach(ArrayBuffer.scala:49)\r\n\tat org.apache.spark.scheduler.DAGScheduler.abortStage(DAGScheduler.scala:2791)\r\n\tat org.apache.spark.scheduler.DAGScheduler.$anonfun$handleTaskSetFailed$1(DAGScheduler.scala:1247)\r\n\tat org.apache.spark.scheduler.DAGScheduler.$anonfun$handleTaskSetFailed$1$adapted(DAGScheduler.scala:1247)\r\n\tat scala.Option.foreach(Option.scala:407)\r\n\tat org.apache.spark.scheduler.DAGScheduler.handleTaskSetFailed(DAGScheduler.scala:1247)\r\n\tat org.apache.spark.scheduler.DAGSchedulerEventProcessLoop.doOnReceive(DAGScheduler.scala:3060)\r\n\tat org.apache.spark.scheduler.DAGSchedulerEventProcessLoop.onReceive(DAGScheduler.scala:2994)\r\n\tat org.apache.spark.scheduler.DAGSchedulerEventProcessLoop.onReceive(DAGScheduler.scala:2983)\r\n\tat org.apache.spark.util.EventLoop$$anon$1.run(EventLoop.scala:49)\r\n\tat org.apache.spark.scheduler.DAGScheduler.runJob(DAGScheduler.scala:989)\r\n\tat org.apache.spark.SparkContext.runJob(SparkContext.scala:2398)\r\n\tat org.apache.spark.SparkContext.runJob(SparkContext.scala:2419)\r\n\tat org.apache.spark.SparkContext.runJob(SparkContext.scala:2438)\r\n\tat org.apache.spark.SparkContext.runJob(SparkContext.scala:2463)\r\n\tat org.apache.spark.rdd.RDD.$anonfun$collect$1(RDD.scala:1049)\r\n\tat org.apache.spark.rdd.RDDOperationScope$.withScope(RDDOperationScope.scala:151)\r\n\tat org.apache.spark.rdd.RDDOperationScope$.withScope(RDDOperationScope.scala:112)\r\n\tat org.apache.spark.rdd.RDD.withScope(RDD.scala:410)\r\n\tat org.apache.spark.rdd.RDD.collect(RDD.scala:1048)\r\n\tat org.apache.spark.sql.execution.SparkPlan.executeCollect(SparkPlan.scala:448)\r\n\tat org.apache.spark.sql.Dataset.$anonfun$collectToPython$1(Dataset.scala:4148)\r\n\tat org.apache.spark.sql.Dataset.$anonfun$withAction$2(Dataset.scala:4322)\r\n\tat org.apache.spark.sql.execution.QueryExecution$.withInternalError(QueryExecution.scala:546)\r\n\tat org.apache.spark.sql.Dataset.$anonfun$withAction$1(Dataset.scala:4320)\r\n\tat org.apache.spark.sql.execution.SQLExecution$.$anonfun$withNewExecutionId$6(SQLExecution.scala:125)\r\n\tat org.apache.spark.sql.execution.SQLExecution$.withSQLConfPropagated(SQLExecution.scala:201)\r\n\tat org.apache.spark.sql.execution.SQLExecution$.$anonfun$withNewExecutionId$1(SQLExecution.scala:108)\r\n\tat org.apache.spark.sql.SparkSession.withActive(SparkSession.scala:900)\r\n\tat org.apache.spark.sql.execution.SQLExecution$.withNewExecutionId(SQLExecution.scala:66)\r\n\tat org.apache.spark.sql.Dataset.withAction(Dataset.scala:4320)\r\n\tat org.apache.spark.sql.Dataset.collectToPython(Dataset.scala:4145)\r\n\tat java.base/jdk.internal.reflect.NativeMethodAccessorImpl.invoke0(Native Method)\r\n\tat java.base/jdk.internal.reflect.NativeMethodAccessorImpl.invoke(NativeMethodAccessorImpl.java:75)\r\n\tat java.base/jdk.internal.reflect.DelegatingMethodAccessorImpl.invoke(DelegatingMethodAccessorImpl.java:52)\r\n\tat java.base/java.lang.reflect.Method.invoke(Method.java:580)\r\n\tat py4j.reflection.MethodInvoker.invoke(MethodInvoker.java:244)\r\n\tat py4j.reflection.ReflectionEngine.invoke(ReflectionEngine.java:374)\r\n\tat py4j.Gateway.invoke(Gateway.java:282)\r\n\tat py4j.commands.AbstractCommand.invokeMethod(AbstractCommand.java:132)\r\n\tat py4j.commands.CallCommand.execute(CallCommand.java:79)\r\n\tat py4j.ClientServerConnection.waitForCommands(ClientServerConnection.java:182)\r\n\tat py4j.ClientServerConnection.run(ClientServerConnection.java:106)\r\n\tat java.base/java.lang.Thread.run(Thread.java:1583)\r\n"
     ]
    }
   ],
   "source": [
    "import pandas as pd\n",
    "\n",
    "# Define the number of rows per chunk\n",
    "chunk_size = 1000  # Adjust the chunk size as needed\n",
    "\n",
    "# Convert Spark DataFrame to Pandas DataFrame in chunks\n",
    "reviews_pandas_chunks = []\n",
    "for chunk in result.toPandas().to_numpy().reshape(-1, chunk_size):\n",
    "    pandas_chunk = pd.DataFrame(chunk, columns=result.columns)\n",
    "    reviews_pandas_chunks.append(pandas_chunk)\n",
    "\n",
    "# Concatenate chunks into a single Pandas DataFrame\n",
    "reviews_pandas_df = pd.concat(reviews_pandas_chunks, ignore_index=True)\n"
   ]
  },
  {
   "cell_type": "code",
   "execution_count": 6,
   "id": "4809d05e",
   "metadata": {},
   "outputs": [
    {
     "ename": "NameError",
     "evalue": "name 'reviews_pandas_df' is not defined",
     "output_type": "error",
     "traceback": [
      "\u001b[1;31m---------------------------------------------------------------------------\u001b[0m",
      "\u001b[1;31mNameError\u001b[0m                                 Traceback (most recent call last)",
      "Cell \u001b[1;32mIn[6], line 1\u001b[0m\n\u001b[1;32m----> 1\u001b[0m reviews_pandas_df\n",
      "\u001b[1;31mNameError\u001b[0m: name 'reviews_pandas_df' is not defined"
     ]
    }
   ],
   "source": [
    "reviews_pandas_df"
   ]
  },
  {
   "cell_type": "code",
   "execution_count": null,
   "id": "5df43fa3",
   "metadata": {},
   "outputs": [],
   "source": [
    "# Save DataFrame as parquet files (a columnar storage format) in a directory\n",
    "df.write.mode(\"overwrite\").parquet(r\"C:\\Users\\jose\\OneDrive - Dublin Business School (DBS)\\Desktop\\CA1_Integrated_Assesment_MSc_Data_Analytics_CCT_Semester_2\\parquet_2\")\n",
    "\n",
    "# Register the DataFrame as a temporary view\n",
    "df.createOrReplaceTempView(\"reviews\")"
   ]
  },
  {
   "cell_type": "code",
   "execution_count": null,
   "id": "672b350c",
   "metadata": {},
   "outputs": [],
   "source": [
    "from pyspark.sql import SparkSession\n",
    "\n",
    "# Initialize SparkSession\n",
    "spark = SparkSession.builder \\\n",
    "    .appName(\"Create Database from CSV\") \\\n",
    "    .getOrCreate()\n",
    "\n",
    "# Create a database\n",
    "spark.sql(\"CREATE DATABASE IF NOT EXISTS amz_reviews\")\n",
    "\n",
    "# Save DataFrame as a table in the database\n",
    "spark.sql(\"CREATE TABLE IF NOT EXISTS reviews USING parquet OPTIONS (PATH 'C:/Users/jose/OneDrive - Dublin Business School (DBS)/Desktop/CA1_Integrated_Assesment_MSc_Data_Analytics_CCT_Semester_2/parquet_2')\")\n"
   ]
  },
  {
   "cell_type": "code",
   "execution_count": 15,
   "id": "c1d4e83b",
   "metadata": {},
   "outputs": [],
   "source": [
    "# Stop SparkSession\n",
    "spark.stop()\n"
   ]
  },
  {
   "cell_type": "code",
   "execution_count": null,
   "id": "8ffcd0fb",
   "metadata": {},
   "outputs": [],
   "source": []
  }
 ],
 "metadata": {
  "kernelspec": {
   "display_name": "Python 3 (ipykernel)",
   "language": "python",
   "name": "python3"
  },
  "language_info": {
   "codemirror_mode": {
    "name": "ipython",
    "version": 3
   },
   "file_extension": ".py",
   "mimetype": "text/x-python",
   "name": "python",
   "nbconvert_exporter": "python",
   "pygments_lexer": "ipython3",
   "version": "3.11.5"
  }
 },
 "nbformat": 4,
 "nbformat_minor": 5
}
