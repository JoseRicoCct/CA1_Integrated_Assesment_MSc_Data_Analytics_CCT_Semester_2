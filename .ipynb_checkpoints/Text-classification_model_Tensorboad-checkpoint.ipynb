{
 "cells": [
  {
   "cell_type": "code",
   "execution_count": 9,
   "id": "7e95e384",
   "metadata": {},
   "outputs": [],
   "source": [
    "import keras\n",
    "from keras import layers\n",
    "from keras.datasets import imdb\n",
    "from keras.preprocessing import sequence\n",
    "max_features = 2000\n",
    "max_len = 500"
   ]
  },
  {
   "cell_type": "code",
   "execution_count": 10,
   "id": "97b68345",
   "metadata": {},
   "outputs": [],
   "source": [
    "(x_train, y_train), (x_test, y_test) = imdb.load_data(num_words=max_features)\n",
    "x_train = sequence.pad_sequences(x_train, maxlen=max_len)\n",
    "x_test = sequence.pad_sequences(x_test, maxlen=max_len)"
   ]
  },
  {
   "cell_type": "code",
   "execution_count": 11,
   "id": "1ba49adc",
   "metadata": {},
   "outputs": [
    {
     "name": "stdout",
     "output_type": "stream",
     "text": [
      "Model: \"sequential_1\"\n",
      "_________________________________________________________________\n",
      " Layer (type)                Output Shape              Param #   \n",
      "=================================================================\n",
      " embed (Embedding)           (None, 500, 128)          256000    \n",
      "                                                                 \n",
      " conv1d (Conv1D)             (None, 494, 32)           28704     \n",
      "                                                                 \n",
      " max_pooling1d (MaxPooling1  (None, 98, 32)            0         \n",
      " D)                                                              \n",
      "                                                                 \n",
      " conv1d_1 (Conv1D)           (None, 92, 32)            7200      \n",
      "                                                                 \n",
      " global_max_pooling1d (Glob  (None, 32)                0         \n",
      " alMaxPooling1D)                                                 \n",
      "                                                                 \n",
      " dense_7 (Dense)             (None, 1)                 33        \n",
      "                                                                 \n",
      "=================================================================\n",
      "Total params: 291937 (1.11 MB)\n",
      "Trainable params: 291937 (1.11 MB)\n",
      "Non-trainable params: 0 (0.00 Byte)\n",
      "_________________________________________________________________\n"
     ]
    }
   ],
   "source": [
    "model = keras.models.Sequential()\n",
    "model.add(layers.Embedding(max_features, 128,\n",
    "                            input_length=max_len,\n",
    "                            name='embed'))\n",
    "model.add(layers.Conv1D(32, 7, activation='relu'))\n",
    "model.add(layers.MaxPooling1D(5))\n",
    "model.add(layers.Conv1D(32, 7, activation='relu'))\n",
    "model.add(layers.GlobalMaxPooling1D())\n",
    "model.add(layers.Dense(1))\n",
    "model.summary()\n",
    "model.compile(optimizer='rmsprop',\n",
    "                loss='binary_crossentropy',\n",
    "                metrics=['acc'])"
   ]
  },
  {
   "cell_type": "code",
   "execution_count": 12,
   "id": "d145f2db",
   "metadata": {},
   "outputs": [
    {
     "name": "stdout",
     "output_type": "stream",
     "text": [
      "Epoch 1/20\n",
      "157/157 [==============================] - 24s 146ms/step - loss: 0.6474 - acc: 0.6553 - val_loss: 0.4269 - val_acc: 0.8360\n",
      "Epoch 2/20\n",
      "157/157 [==============================] - 30s 191ms/step - loss: 0.4305 - acc: 0.8469 - val_loss: 0.4341 - val_acc: 0.8458\n",
      "Epoch 3/20\n",
      "157/157 [==============================] - 27s 174ms/step - loss: 0.3762 - acc: 0.8757 - val_loss: 0.4495 - val_acc: 0.8604\n",
      "Epoch 4/20\n",
      "157/157 [==============================] - 29s 186ms/step - loss: 0.3382 - acc: 0.8931 - val_loss: 1.1406 - val_acc: 0.7730\n",
      "Epoch 5/20\n",
      "157/157 [==============================] - 28s 178ms/step - loss: 0.3044 - acc: 0.9097 - val_loss: 1.0699 - val_acc: 0.7904\n",
      "Epoch 6/20\n",
      "157/157 [==============================] - 31s 199ms/step - loss: 0.2761 - acc: 0.9270 - val_loss: 0.5821 - val_acc: 0.8704\n",
      "Epoch 7/20\n",
      "157/157 [==============================] - 29s 185ms/step - loss: 0.2387 - acc: 0.9417 - val_loss: 0.7300 - val_acc: 0.8550\n",
      "Epoch 8/20\n",
      "157/157 [==============================] - 30s 190ms/step - loss: 0.2066 - acc: 0.9553 - val_loss: 0.7936 - val_acc: 0.8556\n",
      "Epoch 9/20\n",
      "157/157 [==============================] - 30s 189ms/step - loss: 0.1701 - acc: 0.9671 - val_loss: 0.9612 - val_acc: 0.8514\n",
      "Epoch 10/20\n",
      "157/157 [==============================] - 29s 186ms/step - loss: 0.1436 - acc: 0.9779 - val_loss: 0.8644 - val_acc: 0.8692\n",
      "Epoch 11/20\n",
      "157/157 [==============================] - 30s 188ms/step - loss: 0.1248 - acc: 0.9825 - val_loss: 1.2549 - val_acc: 0.8396\n",
      "Epoch 12/20\n",
      "157/157 [==============================] - 32s 205ms/step - loss: 0.1092 - acc: 0.9874 - val_loss: 0.9828 - val_acc: 0.8670\n",
      "Epoch 13/20\n",
      "157/157 [==============================] - 29s 183ms/step - loss: 0.1007 - acc: 0.9902 - val_loss: 1.0168 - val_acc: 0.8662\n",
      "Epoch 14/20\n",
      "157/157 [==============================] - 27s 172ms/step - loss: 0.0997 - acc: 0.9894 - val_loss: 1.1082 - val_acc: 0.8582\n",
      "Epoch 15/20\n",
      "157/157 [==============================] - 26s 165ms/step - loss: 0.0968 - acc: 0.9909 - val_loss: 1.0959 - val_acc: 0.8602\n",
      "Epoch 16/20\n",
      "157/157 [==============================] - 28s 176ms/step - loss: 0.0977 - acc: 0.9896 - val_loss: 1.0800 - val_acc: 0.8670\n",
      "Epoch 17/20\n",
      "157/157 [==============================] - 28s 181ms/step - loss: 0.0951 - acc: 0.9916 - val_loss: 1.1510 - val_acc: 0.8678\n",
      "Epoch 18/20\n",
      "157/157 [==============================] - 26s 167ms/step - loss: 0.0924 - acc: 0.9919 - val_loss: 1.1726 - val_acc: 0.8698\n",
      "Epoch 19/20\n",
      "157/157 [==============================] - 27s 170ms/step - loss: 0.0887 - acc: 0.9929 - val_loss: 1.1686 - val_acc: 0.8676\n",
      "Epoch 20/20\n",
      "157/157 [==============================] - 27s 175ms/step - loss: 0.0908 - acc: 0.9918 - val_loss: 1.1616 - val_acc: 0.8694\n"
     ]
    }
   ],
   "source": [
    "callbacks = [\n",
    "    keras.callbacks.TensorBoard(\n",
    "        log_dir='my_log_dir',\n",
    "        histogram_freq=1,\n",
    "        embeddings_freq=1,\n",
    "    )\n",
    "]\n",
    "\n",
    "history = model.fit(x_train, y_train,\n",
    "                    epochs=20,\n",
    "                    batch_size=128,\n",
    "                    validation_split=0.2,\n",
    "                    callbacks=callbacks)"
   ]
  },
  {
   "cell_type": "code",
   "execution_count": 15,
   "id": "6d054da2",
   "metadata": {},
   "outputs": [],
   "source": [
    "from tensorboard import program\n",
    "import tensorflow as tf\n"
   ]
  },
  {
   "cell_type": "code",
   "execution_count": 16,
   "id": "bfabab71",
   "metadata": {},
   "outputs": [],
   "source": [
    "log_dir = \"my_log_dir\"\n",
    "tensorboard_callback = tf.keras.callbacks.TensorBoard(log_dir=log_dir, histogram_freq=1)\n"
   ]
  },
  {
   "cell_type": "code",
   "execution_count": 17,
   "id": "0ca9e70a",
   "metadata": {},
   "outputs": [
    {
     "data": {
      "text/html": [
       "\n",
       "      <iframe id=\"tensorboard-frame-f2cbcb9a691834ad\" width=\"100%\" height=\"800\" frameborder=\"0\">\n",
       "      </iframe>\n",
       "      <script>\n",
       "        (function() {\n",
       "          const frame = document.getElementById(\"tensorboard-frame-f2cbcb9a691834ad\");\n",
       "          const url = new URL(\"/\", window.location);\n",
       "          const port = 6006;\n",
       "          if (port) {\n",
       "            url.port = port;\n",
       "          }\n",
       "          frame.src = url;\n",
       "        })();\n",
       "      </script>\n",
       "    "
      ],
      "text/plain": [
       "<IPython.core.display.HTML object>"
      ]
     },
     "metadata": {},
     "output_type": "display_data"
    }
   ],
   "source": [
    "%load_ext tensorboard\n",
    "\n",
    "# Load the TensorBoard extension\n",
    "%tensorboard --logdir my_log_dir\n"
   ]
  },
  {
   "cell_type": "markdown",
   "id": "2c4ffb46",
   "metadata": {},
   "source": [
    "Reference page 253 book Deep Learning with Python (Francois Chollet)"
   ]
  },
  {
   "cell_type": "code",
   "execution_count": null,
   "id": "b21b8c23",
   "metadata": {},
   "outputs": [],
   "source": []
  }
 ],
 "metadata": {
  "kernelspec": {
   "display_name": "Python 3 (ipykernel)",
   "language": "python",
   "name": "python3"
  },
  "language_info": {
   "codemirror_mode": {
    "name": "ipython",
    "version": 3
   },
   "file_extension": ".py",
   "mimetype": "text/x-python",
   "name": "python",
   "nbconvert_exporter": "python",
   "pygments_lexer": "ipython3",
   "version": "3.11.5"
  }
 },
 "nbformat": 4,
 "nbformat_minor": 5
}
