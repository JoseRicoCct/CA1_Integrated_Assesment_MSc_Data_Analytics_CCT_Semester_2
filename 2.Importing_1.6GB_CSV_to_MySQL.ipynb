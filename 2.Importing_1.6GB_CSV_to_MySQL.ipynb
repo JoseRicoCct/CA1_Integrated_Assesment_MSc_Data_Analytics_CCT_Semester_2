{
 "cells": [
  {
   "cell_type": "code",
   "execution_count": 1,
   "id": "9ee477fa",
   "metadata": {},
   "outputs": [],
   "source": [
    "import time\n",
    "import pandas as pd\n",
    "from sqlalchemy import create_engine\n",
    "from IPython.utils import io\n",
    "start_time = time.time()\n",
    "\n",
    "# Connection details\n",
    "user = 'root'\n",
    "password = 'password'\n",
    "host = 'localhost'\n",
    "database = 'people'\n",
    "\n",
    "# Creating engine for a database connection\n",
    "engine = create_engine(f'mysql+pymysql://{user}:{password}@{host}/{database}')\n",
    "\n",
    "# Specify the chunk size, we need to break it into smaller pieces otherwise system will crash\n",
    "chunksize = 10000\n",
    "\n",
    "# Path to your CSV file\n",
    "csv_file = 'people_increased.csv'\n",
    "\n",
    "# Read and insert the data in chunks\n",
    "for chunk in pd.read_csv(csv_file, chunksize=chunksize):\n",
    "    chunk.to_sql('people_data', con=engine, if_exists='append', index=False)\n",
    "    \n",
    "end_time = time.time()"
   ]
  },
  {
   "cell_type": "code",
   "execution_count": 2,
   "id": "17a2ca9a",
   "metadata": {},
   "outputs": [
    {
     "name": "stdout",
     "output_type": "stream",
     "text": [
      "Total execution time: 7 minutes 28 seconds\n"
     ]
    }
   ],
   "source": [
    "\n",
    "execution_time = end_time - start_time\n",
    "\n",
    "# Convert execution time to minutes and seconds\n",
    "minutes = int(execution_time // 60)\n",
    "seconds = int(execution_time % 60)\n",
    "\n",
    "print(f\"Total execution time: {minutes} minutes {seconds} seconds\")"
   ]
  }
 ],
 "metadata": {
  "kernelspec": {
   "display_name": "Python 3 (ipykernel)",
   "language": "python",
   "name": "python3"
  },
  "language_info": {
   "codemirror_mode": {
    "name": "ipython",
    "version": 3
   },
   "file_extension": ".py",
   "mimetype": "text/x-python",
   "name": "python",
   "nbconvert_exporter": "python",
   "pygments_lexer": "ipython3",
   "version": "3.10.12"
  }
 },
 "nbformat": 4,
 "nbformat_minor": 5
}
