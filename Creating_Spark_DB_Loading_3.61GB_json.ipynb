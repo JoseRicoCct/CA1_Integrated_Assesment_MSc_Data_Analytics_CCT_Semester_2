{
 "cells": [
  {
   "cell_type": "markdown",
   "id": "79372445",
   "metadata": {},
   "source": [
    "# Creating a Spark DB\n",
    "## Loading a JSON file using PySpark"
   ]
  },
  {
   "cell_type": "code",
   "execution_count": 1,
   "id": "007cbddb",
   "metadata": {},
   "outputs": [],
   "source": [
    "from pyspark.sql import SparkSession\n",
    "\n",
    "\n",
    "# Initialize SparkSession\n",
    "spark = SparkSession.builder \\\n",
    "    .appName(\"Create Database from JSON\") \\\n",
    "    .getOrCreate()\n",
    "\n",
    "spark.conf.set(\"spark.sql.execution.arrow.pyspark.enabled\", \"true\")\n",
    "\n",
    "# Read JSON file into DataFrame\n",
    "\n",
    "df = spark.read.format(\"json\") \\\n",
    "    .load(r\"C:\\Users\\jose\\Downloads\\goodreads_reviews.json\") # This file will be pushed into GitHub in a zipped folder using Git LFS\n",
    "\n",
    "# Create a database\n",
    "spark.sql(\"CREATE DATABASE IF NOT EXISTS goodreads_reviews\")\n",
    "\n",
    "# Use the database\n",
    "spark.sql(\"USE goodreads_reviews\")\n",
    "\n",
    "# Save DataFrame as a table in the database\n",
    "df.write.mode(\"overwrite\").saveAsTable(\"reviews\")\n",
    "\n",
    "# Save DataFrame as a table in a database\n",
    "df.write.mode(\"overwrite\").saveAsTable(\"goodreads_reviews.reviews\")\n"
   ]
  },
  {
   "cell_type": "markdown",
   "id": "fd7fb612",
   "metadata": {},
   "source": [
    "## Spark Web UI access localhost:4040"
   ]
  },
  {
   "cell_type": "code",
   "execution_count": 2,
   "id": "3f8f7cf5",
   "metadata": {},
   "outputs": [
    {
     "name": "stdout",
     "output_type": "stream",
     "text": [
      "+--------+--------------------+--------------------+----------+-------+------+--------------------+--------------------+--------------------+--------------------+--------------------+\n",
      "| book_id|          date_added|        date_updated|n_comments|n_votes|rating|             read_at|           review_id|         review_text|          started_at|             user_id|\n",
      "+--------+--------------------+--------------------+----------+-------+------+--------------------+--------------------+--------------------+--------------------+--------------------+\n",
      "|25913122|Tue Dec 29 13:45:...|Fri Aug 26 11:01:...|         2|      5|     4|Tue Jul 12 00:00:...|6083f89f3e7ea38c4...|Compre este libro...|Tue Jul 12 00:00:...|2ce9cf233c1503ed5...|\n",
      "|27823971|Wed Oct 28 07:51:...|Wed Feb 17 21:02:...|         1|      2|     3|Wed Feb 17 00:00:...|28b70411d46da4471...|No puedo ser impa...|Sat Feb 13 00:00:...|2ce9cf233c1503ed5...|\n",
      "|25796670|Sat Oct 03 14:14:...|Wed Mar 16 00:51:...|         1|      4|     2|Tue Mar 01 00:00:...|19bf120725a27a6d9...|Habia desistido d...|Mon Feb 29 00:00:...|2ce9cf233c1503ed5...|\n",
      "|25778324|Sat Oct 03 14:12:...|Mon Feb 29 01:19:...|         0|      4|     5|Mon Feb 29 07:42:...|d1eb66873ca3cded0...|Llegue a este lib...|Mon Feb 22 00:00:...|2ce9cf233c1503ed5...|\n",
      "|18712886|Tue Jul 21 21:54:...|Fri Oct 14 19:31:...|         2|      9|     2|Tue Jul 19 00:00:...|f8ebbbf1bc4705621...|Confieso desde un...|Thu Jun 30 00:00:...|2ce9cf233c1503ed5...|\n",
      "|28963557|Thu Jun 04 22:07:...|Mon Jan 16 16:12:...|         0|      4|     5|Mon Jan 16 13:50:...|a36b1b5ba2a3c96b8...|           Perfecto.|Thu Jan 12 00:00:...|2ce9cf233c1503ed5...|\n",
      "|25469092|Thu Jun 04 13:39:...|Fri Dec 23 19:17:...|         0|      3|     4|Fri Dec 23 00:00:...|e2dd3f9bc925db9d0...|Aunque me gusto m...|Sat Sep 17 00:00:...|2ce9cf233c1503ed5...|\n",
      "|22037944|Thu Jun 04 13:39:...|Tue Oct 25 17:44:...|         0|      8|     4|Tue Sep 06 00:00:...|1fad2e39d1c894e28...|Que dificil es re...|Mon Aug 01 00:00:...|2ce9cf233c1503ed5...|\n",
      "|18499402|Thu Jun 04 13:38:...|Mon Sep 19 13:01:...|         0|      2|     4|Mon Jul 25 00:00:...|c926729a0636597a4...|Quise leer este l...|Tue Jul 19 00:00:...|2ce9cf233c1503ed5...|\n",
      "|26798985|Sat May 30 18:37:...|Fri Sep 09 12:46:...|         0|      2|     4|Mon Jul 18 00:00:...|0f0545973b79489b7...|En la resena ante...|Sat Jul 16 00:00:...|2ce9cf233c1503ed5...|\n",
      "|25432891|Sat May 30 18:36:...|Tue Sep 06 13:36:...|         1|      6|     4|Sat Jul 16 00:00:...|0f6a828470ede1168...|Bueno, voy a ser ...|Fri Jul 15 00:00:...|2ce9cf233c1503ed5...|\n",
      "| 3373897|Fri May 29 21:43:...|Fri Jun 05 18:06:...|         1|      0|     2|Fri Jun 05 00:00:...|f070617a0c61ae60a...|Estuvo bien, pero...|Tue Jan 01 00:00:...|2ce9cf233c1503ed5...|\n",
      "|16080337|Thu May 28 18:31:...|Mon Apr 03 20:11:...|         1|      6|     4|Sun Apr 24 00:00:...|426a72e373bc9896a...|Cuando vi este li...|Sat Apr 23 00:00:...|2ce9cf233c1503ed5...|\n",
      "|18076991|Thu May 28 18:30:...|Fri Sep 02 12:27:...|         0|      3|     4|Tue Jun 21 00:00:...|a35388f2774898813...|I liked this one ...|Tue Jun 21 00:00:...|2ce9cf233c1503ed5...|\n",
      "|18483104|Thu May 28 18:30:...|Fri Sep 02 12:26:...|         0|      3|     3|Tue Jun 21 00:00:...|d34264bdd14d3cf49...|This a well-writt...|Sun Jun 12 00:00:...|2ce9cf233c1503ed5...|\n",
      "|20560907|Thu May 28 18:29:...|Tue Jan 24 18:47:...|         0|      1|     3|Tue Jan 24 00:00:...|7a46f744242bb0927...|Es un 2,5. Es poc...|Thu Jan 19 00:00:...|2ce9cf233c1503ed5...|\n",
      "|17661625|Thu May 28 18:29:...|Thu Apr 28 16:59:...|         0|      5|     4|Wed Mar 16 00:00:...|e33d3e6feaedea3c8...|Tenia que leer es...|Thu Mar 10 00:00:...|2ce9cf233c1503ed5...|\n",
      "|20613470|Thu May 28 18:27:...|Wed Nov 23 10:50:...|         3|     10|     5|Sat Sep 17 00:00:...|f66cf0cfd02ca28be...|Quise empezar a e...|Tue Sep 06 00:00:...|2ce9cf233c1503ed5...|\n",
      "|22037901|Thu May 28 17:07:...|Sun Jul 31 18:41:...|         1|      4|     5|Wed May 11 00:00:...|82b044c60b87f1944...|Ah, ah, ah. Demor...|Wed May 11 00:00:...|2ce9cf233c1503ed5...|\n",
      "|13266803|Thu May 28 17:07:...|Fri Jul 22 12:45:...|         0|      8|     5|Sat May 07 00:00:...|bcb19a6bb57140384...|Bueno, vengo prim...|Wed Apr 27 00:00:...|2ce9cf233c1503ed5...|\n",
      "+--------+--------------------+--------------------+----------+-------+------+--------------------+--------------------+--------------------+--------------------+--------------------+\n",
      "only showing top 20 rows\n",
      "\n"
     ]
    }
   ],
   "source": [
    "# Use the database\n",
    "spark.sql(\"USE goodreads_reviews\")\n",
    "\n",
    "# Query the data from the table\n",
    "result = spark.sql(\"SELECT * FROM reviews\")\n",
    "\n",
    "# Show the result\n",
    "result.show()"
   ]
  },
  {
   "cell_type": "code",
   "execution_count": 3,
   "id": "775514f4",
   "metadata": {},
   "outputs": [],
   "source": [
    "# Save DataFrame as parquet files (a columnar storage format) in a directory\n",
    "# Parket files will be pushed into GitHub in a zipped folder using Git LFS\n",
    "\n",
    "df.write.mode(\"overwrite\").parquet(r\"C:\\Users\\jose\\Downloads\\goodreads_reviews_parquet\") \n",
    "\n",
    "# Register the DataFrame as a temporary view\n",
    "df.createOrReplaceTempView(\"reviews\")"
   ]
  },
  {
   "cell_type": "markdown",
   "id": "26d9650b",
   "metadata": {},
   "source": [
    "## Ending Spark Session to allow parket files to be loaded"
   ]
  },
  {
   "cell_type": "code",
   "execution_count": 4,
   "id": "b193cb20",
   "metadata": {},
   "outputs": [],
   "source": [
    "# Stop SparkSession\n",
    "spark.stop()"
   ]
  }
 ],
 "metadata": {
  "kernelspec": {
   "display_name": "Python 3 (ipykernel)",
   "language": "python",
   "name": "python3"
  },
  "language_info": {
   "codemirror_mode": {
    "name": "ipython",
    "version": 3
   },
   "file_extension": ".py",
   "mimetype": "text/x-python",
   "name": "python",
   "nbconvert_exporter": "python",
   "pygments_lexer": "ipython3",
   "version": "3.11.5"
  }
 },
 "nbformat": 4,
 "nbformat_minor": 5
}
