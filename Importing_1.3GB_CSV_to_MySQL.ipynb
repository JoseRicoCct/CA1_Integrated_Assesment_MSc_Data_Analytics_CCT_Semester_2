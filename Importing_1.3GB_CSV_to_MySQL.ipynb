{
 "cells": [
  {
   "cell_type": "code",
   "execution_count": null,
   "id": "9ee477fa",
   "metadata": {},
   "outputs": [],
   "source": [
    "import pandas as pd\n",
    "from sqlalchemy import create_engine\n",
    "\n",
    "# Connection details\n",
    "user = 'root'\n",
    "password = 'hola'\n",
    "host = 'localhost'\n",
    "database = 'customers'\n",
    "\n",
    "# Create a database connection\n",
    "engine = create_engine(f'mysql+pymysql://{user}:{password}@{host}/{database}')\n",
    "\n",
    "# Specify the chunk size\n",
    "chunksize = 10000  # Adjust based on your needs and system capabilities\n",
    "\n",
    "# Path to your CSV file\n",
    "csv_file = 'C:/ProgramData/MySQL/MySQL Server 8.0/Uploads/customers.csv'\n",
    "\n",
    "# Read and insert the data in chunks\n",
    "for chunk in pd.read_csv(csv_file, chunksize=chunksize):\n",
    "    chunk.to_sql('customer_data', con=engine, if_exists='append', index=False)"
   ]
  }
 ],
 "metadata": {
  "kernelspec": {
   "display_name": "Python 3 (ipykernel)",
   "language": "python",
   "name": "python3"
  },
  "language_info": {
   "codemirror_mode": {
    "name": "ipython",
    "version": 3
   },
   "file_extension": ".py",
   "mimetype": "text/x-python",
   "name": "python",
   "nbconvert_exporter": "python",
   "pygments_lexer": "ipython3",
   "version": "3.11.5"
  }
 },
 "nbformat": 4,
 "nbformat_minor": 5
}
