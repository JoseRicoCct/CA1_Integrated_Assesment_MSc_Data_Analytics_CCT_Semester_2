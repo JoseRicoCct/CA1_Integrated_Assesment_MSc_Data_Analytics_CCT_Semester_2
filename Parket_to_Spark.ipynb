{
 "cells": [
  {
   "cell_type": "code",
   "execution_count": 1,
   "id": "81544e81",
   "metadata": {},
   "outputs": [
    {
     "data": {
      "text/plain": [
       "DataFrame[]"
      ]
     },
     "execution_count": 1,
     "metadata": {},
     "output_type": "execute_result"
    }
   ],
   "source": [
    "from pyspark.sql import SparkSession\n",
    "\n",
    "# Initialize SparkSession\n",
    "spark = SparkSession.builder \\\n",
    "    .appName(\"Create Database from Parquet\") \\\n",
    "    .config(\"spark.driver.memory\", \"4g\") \\\n",
    "    .getOrCreate()\n",
    "\n",
    "# Create a database\n",
    "spark.sql(\"CREATE DATABASE IF NOT EXISTS goodreads_reviews\")\n",
    "\n",
    "# Select the database\n",
    "spark.sql(\"USE goodreads_reviews\")\n",
    "\n",
    "# Save DataFrame as a table in the database\n",
    "#spark.sql(\"CREATE TABLE IF NOT EXISTS reviews USING parquet OPTIONS (PATH 'C:/Users/jose/Downloads/goodreads_reviews_parquet')\")\n",
    "\n",
    "# Save DataFrame as a table in the database\n",
    "spark.sql(\"CREATE TABLE IF NOT EXISTS reviews USING parquet OPTIONS (PATH 'C:/Users/jose/OneDrive - Dublin Business School (DBS)/Desktop/CA1_Integrated_Assesment_MSc_Data_Analytics_CCT_Semester_2/parquet')\")"
   ]
  },
  {
   "cell_type": "markdown",
   "id": "dcedd79f",
   "metadata": {},
   "source": [
    "## Table Check:"
   ]
  },
  {
   "cell_type": "code",
   "execution_count": 2,
   "id": "161e6297",
   "metadata": {},
   "outputs": [
    {
     "name": "stdout",
     "output_type": "stream",
     "text": [
      "+-----------------+---------+-----------+\n",
      "|        namespace|tableName|isTemporary|\n",
      "+-----------------+---------+-----------+\n",
      "|goodreads_reviews|  reviews|      false|\n",
      "+-----------------+---------+-----------+\n",
      "\n"
     ]
    }
   ],
   "source": [
    "# Show tables in the current schema\n",
    "spark.sql(\"SHOW TABLES\").show()"
   ]
  },
  {
   "cell_type": "code",
   "execution_count": 3,
   "id": "34089e39",
   "metadata": {},
   "outputs": [
    {
     "name": "stdout",
     "output_type": "stream",
     "text": [
      "+-----+---------------+----------+---------+--------------------+-----------------+--------------------+--------------------+--------------------+--------------------+-----------------+--------------------+\n",
      "|Index|    Customer_Id|First_Name|Last_Name|             Company|             City|             Country|             Phone_1|             Phone_2|               Email|Subscription_Date|             Website|\n",
      "+-----+---------------+----------+---------+--------------------+-----------------+--------------------+--------------------+--------------------+--------------------+-----------------+--------------------+\n",
      "|    1|4962fdbE6Bfee6D|       Pam|   Sparks|        Patel-Deleon|       Blakemouth|British Indian Oc...|    267-243-9490x035|    480-078-0535x889|nicolas00@faulkne...|       2020-11-29| https://nelson.com/|\n",
      "|    2|9b12Ae76fdBc9bE|      Gina|    Rocha|Acosta, Paul and ...| East Lynnchester|          Costa Rica|        027.142.0940|+1-752-593-4777x0...|  yfarley@morgan.com|       2021-01-03|https://pineda-ro...|\n",
      "|    3|39edFd2F60C85BC|   Kristie|    Greer|           Ochoa PLC|      West Pamela|             Ecuador|+1-049-168-7497x5053|     +1-311-216-7855|jennyhayden@petty...|       2021-06-20|https://mckinney....|\n",
      "|    4|Fa42AE6a9aD39cE|    Arthur|   Fields|          Moyer-Wang|     East Belinda|         Afghanistan|001-653-754-7486x...|    521-630-3858x953|igrimes@ruiz-todd...|       2020-02-13|https://dominguez...|\n",
      "|    5|F5702Edae925F1D|  Michelle|  Blevins|       Shah and Sons|       West Jared|    Marshall Islands|          8735278329|   (633)283-6034x500|diamondcarter@jor...|       2020-10-20|http://murillo-ry...|\n",
      "|    6|9FBfbd34c3f30d9|      Greg|   Rivers|Hendrix, Arias an...|   New Pedrohaven|             Senegal|          2382697028|        822-449-7638|mannkiara@bowman.com|       2020-02-19|https://www.richa...|\n",
      "|    7|D31D38D576aB1Bf|     Brian|   Brandt|Reed, Wiley and O...|         Rayville|    Marshall Islands|    608.531.0005x630|   926-957-7052x6181|dlynn@palmer-morg...|       2020-03-31|https://www.washi...|\n",
      "|    8|3C3B8bee16BcC5F|    Dennis|  Pacheco|     Contreras-Brock|South Eugenehaven|           Sri Lanka|     +1-391-505-2358|        076.454.1128|    joy45@conner.org|       2021-03-20|http://www.armstr...|\n",
      "|    9|7C1C93522Bd5e4B|     Malik|   Rivers|Best, Washington ...|        Mejiastad|   Wallis and Futuna|001-366-285-9819x...|   852.896.9192x3681|stacydavis@spence...|       2020-01-16| https://watson.com/|\n",
      "|   10|bABC8cBffe68792|    Hayden|   Riddle|         Rogers-Dean|     Kaitlynmouth|            Cameroon|  951.359.7028x94651|        931.227.4541| danhouston@moon.net|       2022-05-18|https://www.farle...|\n",
      "|   11|534a2B5FE8Aba5d|    Edward|     Wood|Mckee, Schneider ...|       Kelseystad|             Croatia|  (932)069-3090x0566|    037-375-9588x561|batesbill@jensen.net|       2020-05-22| http://alvarez.com/|\n",
      "|   12|4baa94d4FaEbe9d|     Julie|    Stein|           Fry Group|  South Frankside|               Macao| +1-918-017-3392x459|        500-005-1315|sherry62@robinson...|       2020-01-17|https://carlson-j...|\n",
      "|   13|Fc2c8D2BE1AEfDb|  Kristina|  Andrade|            Mann Ltd|     Port Taraton|    Pitcairn Islands| (640)067-7023x66846|001-367-405-8096x592|ivillarreal@fowle...|       2020-09-11|  https://foley.com/|\n",
      "|   14|9468BBc926AaAB3|       Zoe|   Hansen|          Tanner PLC|     Kimberlyfort|               Benin|   638-798-9796x0247|  (265)475-2386x9812|duransheena@hughe...|       2021-10-09|https://franco-ga...|\n",
      "|   15|BE96AcDDCc77da0|    Joseph|  Bennett|      Stafford Group|      Port Mathew|                Peru|+1-597-363-0416x6579|    900.196.1169x767|albertparsons@she...|       2020-04-29|https://howard-bo...|\n",
      "|   16|A24E162EBb6D97B|    Vickie| Ferguson|        Ward-Ferrell|        Carlyport|             Tunisia|       (351)349-8170|+1-943-399-6212x1474|    rita82@carey.com|       2021-04-16|https://ashley-on...|\n",
      "|   17|f1a979d0Ed2dB14|    Dillon|     Frye|         Short-Novak|  Lake Kendraview|            Colombia|     +1-003-466-7005|001-253-461-6631x...|housegreg@dillon.com|       2021-11-29|http://www.young....|\n",
      "|   18|dCBC761B59e4EFB|     Grace|    Logan|    Ellis-Williamson|     Rochaborough|               Kenya|          1744624651|  166-747-2389x97375|jodyeverett@potte...|       2020-02-11|https://www.knapp...|\n",
      "|   19|d0e6bb354BAeEEd|      Sara|   Dudley|          Coffey Ltd|    Lake Davestad|            Guernsey|        921.993.4487|   (812)799-2828x896|    beth75@noble.com|       2021-10-16|https://padilla.i...|\n",
      "|   20|8Ace2d52a65faA6|    Philip| Andersen|Hays, Shea and Ng...|       Devonburgh|             Morocco|001-820-882-1469x...|   (813)152-5505x275|reginaldavila@sta...|       2020-02-04|http://patton-pin...|\n",
      "+-----+---------------+----------+---------+--------------------+-----------------+--------------------+--------------------+--------------------+--------------------+-----------------+--------------------+\n",
      "only showing top 20 rows\n",
      "\n"
     ]
    }
   ],
   "source": [
    "# Use the database\n",
    "spark.sql(\"USE goodreads_reviews\")\n",
    "\n",
    "# Query the data from the table\n",
    "result = spark.sql(\"SELECT * FROM reviews\")\n",
    "\n",
    "# Show the result\n",
    "result.show()"
   ]
  },
  {
   "cell_type": "markdown",
   "id": "88714cd2",
   "metadata": {},
   "source": [
    "## Passing *Spark*  `result` into a pandas dataframe for modelling, first we will drop some columns to avoid the error:\n",
    "## ConnectionRefusedError: [WinError 10061] No connection could be made because the target machine actively refused it."
   ]
  },
  {
   "cell_type": "code",
   "execution_count": 4,
   "id": "eaf6ead7",
   "metadata": {},
   "outputs": [
    {
     "name": "stdout",
     "output_type": "stream",
     "text": [
      "+--------+------+--------------------+--------------------+\n",
      "| book_id|rating|         review_text|             user_id|\n",
      "+--------+------+--------------------+--------------------+\n",
      "|25913122|     4|Compre este libro...|2ce9cf233c1503ed5...|\n",
      "|27823971|     3|No puedo ser impa...|2ce9cf233c1503ed5...|\n",
      "|25796670|     2|Habia desistido d...|2ce9cf233c1503ed5...|\n",
      "|25778324|     5|Llegue a este lib...|2ce9cf233c1503ed5...|\n",
      "|18712886|     2|Confieso desde un...|2ce9cf233c1503ed5...|\n",
      "|28963557|     5|           Perfecto.|2ce9cf233c1503ed5...|\n",
      "|25469092|     4|Aunque me gusto m...|2ce9cf233c1503ed5...|\n",
      "|22037944|     4|Que dificil es re...|2ce9cf233c1503ed5...|\n",
      "|18499402|     4|Quise leer este l...|2ce9cf233c1503ed5...|\n",
      "|26798985|     4|En la resena ante...|2ce9cf233c1503ed5...|\n",
      "|25432891|     4|Bueno, voy a ser ...|2ce9cf233c1503ed5...|\n",
      "| 3373897|     2|Estuvo bien, pero...|2ce9cf233c1503ed5...|\n",
      "|16080337|     4|Cuando vi este li...|2ce9cf233c1503ed5...|\n",
      "|18076991|     4|I liked this one ...|2ce9cf233c1503ed5...|\n",
      "|18483104|     3|This a well-writt...|2ce9cf233c1503ed5...|\n",
      "|20560907|     3|Es un 2,5. Es poc...|2ce9cf233c1503ed5...|\n",
      "|17661625|     4|Tenia que leer es...|2ce9cf233c1503ed5...|\n",
      "|20613470|     5|Quise empezar a e...|2ce9cf233c1503ed5...|\n",
      "|22037901|     5|Ah, ah, ah. Demor...|2ce9cf233c1503ed5...|\n",
      "|13266803|     5|Bueno, vengo prim...|2ce9cf233c1503ed5...|\n",
      "+--------+------+--------------------+--------------------+\n",
      "only showing top 20 rows\n",
      "\n"
     ]
    }
   ],
   "source": [
    "# Assuming df is your Spark DataFrame\n",
    "columns_to_drop = [\"date_added\", \"date_updated\",\"n_comments\",\"n_votes\",\"review_id\",\"started_at\",\"read_at\"]  # List of columns to drop\n",
    "\n",
    "# Drop the specified columns\n",
    "result = result.drop(*columns_to_drop)\n",
    "\n",
    "# Show the result\n",
    "result.show()"
   ]
  },
  {
   "cell_type": "code",
   "execution_count": 5,
   "id": "ef1b4937",
   "metadata": {},
   "outputs": [
    {
     "ename": "Py4JJavaError",
     "evalue": "An error occurred while calling o56.collectToPython.\n: org.apache.spark.SparkException: Job aborted due to stage failure: Task 5 in stage 3.0 failed 1 times, most recent failure: Lost task 5.0 in stage 3.0 (TID 8) (DESKTOP-IK25UHA executor driver): TaskResultLost (result lost from block manager)\nDriver stacktrace:\r\n\tat org.apache.spark.scheduler.DAGScheduler.failJobAndIndependentStages(DAGScheduler.scala:2856)\r\n\tat org.apache.spark.scheduler.DAGScheduler.$anonfun$abortStage$2(DAGScheduler.scala:2792)\r\n\tat org.apache.spark.scheduler.DAGScheduler.$anonfun$abortStage$2$adapted(DAGScheduler.scala:2791)\r\n\tat scala.collection.mutable.ResizableArray.foreach(ResizableArray.scala:62)\r\n\tat scala.collection.mutable.ResizableArray.foreach$(ResizableArray.scala:55)\r\n\tat scala.collection.mutable.ArrayBuffer.foreach(ArrayBuffer.scala:49)\r\n\tat org.apache.spark.scheduler.DAGScheduler.abortStage(DAGScheduler.scala:2791)\r\n\tat org.apache.spark.scheduler.DAGScheduler.$anonfun$handleTaskSetFailed$1(DAGScheduler.scala:1247)\r\n\tat org.apache.spark.scheduler.DAGScheduler.$anonfun$handleTaskSetFailed$1$adapted(DAGScheduler.scala:1247)\r\n\tat scala.Option.foreach(Option.scala:407)\r\n\tat org.apache.spark.scheduler.DAGScheduler.handleTaskSetFailed(DAGScheduler.scala:1247)\r\n\tat org.apache.spark.scheduler.DAGSchedulerEventProcessLoop.doOnReceive(DAGScheduler.scala:3060)\r\n\tat org.apache.spark.scheduler.DAGSchedulerEventProcessLoop.onReceive(DAGScheduler.scala:2994)\r\n\tat org.apache.spark.scheduler.DAGSchedulerEventProcessLoop.onReceive(DAGScheduler.scala:2983)\r\n\tat org.apache.spark.util.EventLoop$$anon$1.run(EventLoop.scala:49)\r\n\tat org.apache.spark.scheduler.DAGScheduler.runJob(DAGScheduler.scala:989)\r\n\tat org.apache.spark.SparkContext.runJob(SparkContext.scala:2398)\r\n\tat org.apache.spark.SparkContext.runJob(SparkContext.scala:2419)\r\n\tat org.apache.spark.SparkContext.runJob(SparkContext.scala:2438)\r\n\tat org.apache.spark.SparkContext.runJob(SparkContext.scala:2463)\r\n\tat org.apache.spark.rdd.RDD.$anonfun$collect$1(RDD.scala:1049)\r\n\tat org.apache.spark.rdd.RDDOperationScope$.withScope(RDDOperationScope.scala:151)\r\n\tat org.apache.spark.rdd.RDDOperationScope$.withScope(RDDOperationScope.scala:112)\r\n\tat org.apache.spark.rdd.RDD.withScope(RDD.scala:410)\r\n\tat org.apache.spark.rdd.RDD.collect(RDD.scala:1048)\r\n\tat org.apache.spark.sql.execution.SparkPlan.executeCollect(SparkPlan.scala:448)\r\n\tat org.apache.spark.sql.Dataset.$anonfun$collectToPython$1(Dataset.scala:4148)\r\n\tat org.apache.spark.sql.Dataset.$anonfun$withAction$2(Dataset.scala:4322)\r\n\tat org.apache.spark.sql.execution.QueryExecution$.withInternalError(QueryExecution.scala:546)\r\n\tat org.apache.spark.sql.Dataset.$anonfun$withAction$1(Dataset.scala:4320)\r\n\tat org.apache.spark.sql.execution.SQLExecution$.$anonfun$withNewExecutionId$6(SQLExecution.scala:125)\r\n\tat org.apache.spark.sql.execution.SQLExecution$.withSQLConfPropagated(SQLExecution.scala:201)\r\n\tat org.apache.spark.sql.execution.SQLExecution$.$anonfun$withNewExecutionId$1(SQLExecution.scala:108)\r\n\tat org.apache.spark.sql.SparkSession.withActive(SparkSession.scala:900)\r\n\tat org.apache.spark.sql.execution.SQLExecution$.withNewExecutionId(SQLExecution.scala:66)\r\n\tat org.apache.spark.sql.Dataset.withAction(Dataset.scala:4320)\r\n\tat org.apache.spark.sql.Dataset.collectToPython(Dataset.scala:4145)\r\n\tat java.base/jdk.internal.reflect.NativeMethodAccessorImpl.invoke0(Native Method)\r\n\tat java.base/jdk.internal.reflect.NativeMethodAccessorImpl.invoke(NativeMethodAccessorImpl.java:75)\r\n\tat java.base/jdk.internal.reflect.DelegatingMethodAccessorImpl.invoke(DelegatingMethodAccessorImpl.java:52)\r\n\tat java.base/java.lang.reflect.Method.invoke(Method.java:580)\r\n\tat py4j.reflection.MethodInvoker.invoke(MethodInvoker.java:244)\r\n\tat py4j.reflection.ReflectionEngine.invoke(ReflectionEngine.java:374)\r\n\tat py4j.Gateway.invoke(Gateway.java:282)\r\n\tat py4j.commands.AbstractCommand.invokeMethod(AbstractCommand.java:132)\r\n\tat py4j.commands.CallCommand.execute(CallCommand.java:79)\r\n\tat py4j.ClientServerConnection.waitForCommands(ClientServerConnection.java:182)\r\n\tat py4j.ClientServerConnection.run(ClientServerConnection.java:106)\r\n\tat java.base/java.lang.Thread.run(Thread.java:1583)\r\n",
     "output_type": "error",
     "traceback": [
      "\u001b[1;31m---------------------------------------------------------------------------\u001b[0m",
      "\u001b[1;31mPy4JJavaError\u001b[0m                             Traceback (most recent call last)",
      "Cell \u001b[1;32mIn[5], line 8\u001b[0m\n\u001b[0;32m      4\u001b[0m \u001b[38;5;28;01mimport\u001b[39;00m \u001b[38;5;21;01mnumpy\u001b[39;00m \u001b[38;5;28;01mas\u001b[39;00m \u001b[38;5;21;01mnp\u001b[39;00m    \n\u001b[0;32m      5\u001b[0m \u001b[38;5;28;01mimport\u001b[39;00m \u001b[38;5;21;01mpandas\u001b[39;00m \u001b[38;5;28;01mas\u001b[39;00m \u001b[38;5;21;01mpd\u001b[39;00m\n\u001b[1;32m----> 8\u001b[0m reviews_pandas_df\u001b[38;5;241m=\u001b[39m result\u001b[38;5;241m.\u001b[39mselect(\u001b[38;5;124m\"\u001b[39m\u001b[38;5;124m*\u001b[39m\u001b[38;5;124m\"\u001b[39m)\u001b[38;5;241m.\u001b[39mtoPandas()\n",
      "File \u001b[1;32m~\\anaconda3\\Lib\\site-packages\\pyspark\\sql\\pandas\\conversion.py:202\u001b[0m, in \u001b[0;36mPandasConversionMixin.toPandas\u001b[1;34m(self)\u001b[0m\n\u001b[0;32m    199\u001b[0m             \u001b[38;5;28;01mraise\u001b[39;00m\n\u001b[0;32m    201\u001b[0m \u001b[38;5;66;03m# Below is toPandas without Arrow optimization.\u001b[39;00m\n\u001b[1;32m--> 202\u001b[0m rows \u001b[38;5;241m=\u001b[39m \u001b[38;5;28mself\u001b[39m\u001b[38;5;241m.\u001b[39mcollect()\n\u001b[0;32m    203\u001b[0m \u001b[38;5;28;01mif\u001b[39;00m \u001b[38;5;28mlen\u001b[39m(rows) \u001b[38;5;241m>\u001b[39m \u001b[38;5;241m0\u001b[39m:\n\u001b[0;32m    204\u001b[0m     pdf \u001b[38;5;241m=\u001b[39m pd\u001b[38;5;241m.\u001b[39mDataFrame\u001b[38;5;241m.\u001b[39mfrom_records(\n\u001b[0;32m    205\u001b[0m         rows, index\u001b[38;5;241m=\u001b[39m\u001b[38;5;28mrange\u001b[39m(\u001b[38;5;28mlen\u001b[39m(rows)), columns\u001b[38;5;241m=\u001b[39m\u001b[38;5;28mself\u001b[39m\u001b[38;5;241m.\u001b[39mcolumns  \u001b[38;5;66;03m# type: ignore[arg-type]\u001b[39;00m\n\u001b[0;32m    206\u001b[0m     )\n",
      "File \u001b[1;32m~\\anaconda3\\Lib\\site-packages\\pyspark\\sql\\dataframe.py:1261\u001b[0m, in \u001b[0;36mDataFrame.collect\u001b[1;34m(self)\u001b[0m\n\u001b[0;32m   1241\u001b[0m \u001b[38;5;250m\u001b[39m\u001b[38;5;124;03m\"\"\"Returns all the records as a list of :class:`Row`.\u001b[39;00m\n\u001b[0;32m   1242\u001b[0m \n\u001b[0;32m   1243\u001b[0m \u001b[38;5;124;03m.. versionadded:: 1.3.0\u001b[39;00m\n\u001b[1;32m   (...)\u001b[0m\n\u001b[0;32m   1258\u001b[0m \u001b[38;5;124;03m[Row(age=14, name='Tom'), Row(age=23, name='Alice'), Row(age=16, name='Bob')]\u001b[39;00m\n\u001b[0;32m   1259\u001b[0m \u001b[38;5;124;03m\"\"\"\u001b[39;00m\n\u001b[0;32m   1260\u001b[0m \u001b[38;5;28;01mwith\u001b[39;00m SCCallSiteSync(\u001b[38;5;28mself\u001b[39m\u001b[38;5;241m.\u001b[39m_sc):\n\u001b[1;32m-> 1261\u001b[0m     sock_info \u001b[38;5;241m=\u001b[39m \u001b[38;5;28mself\u001b[39m\u001b[38;5;241m.\u001b[39m_jdf\u001b[38;5;241m.\u001b[39mcollectToPython()\n\u001b[0;32m   1262\u001b[0m \u001b[38;5;28;01mreturn\u001b[39;00m \u001b[38;5;28mlist\u001b[39m(_load_from_socket(sock_info, BatchedSerializer(CPickleSerializer())))\n",
      "File \u001b[1;32m~\\anaconda3\\Lib\\site-packages\\py4j\\java_gateway.py:1322\u001b[0m, in \u001b[0;36mJavaMember.__call__\u001b[1;34m(self, *args)\u001b[0m\n\u001b[0;32m   1316\u001b[0m command \u001b[38;5;241m=\u001b[39m proto\u001b[38;5;241m.\u001b[39mCALL_COMMAND_NAME \u001b[38;5;241m+\u001b[39m\\\n\u001b[0;32m   1317\u001b[0m     \u001b[38;5;28mself\u001b[39m\u001b[38;5;241m.\u001b[39mcommand_header \u001b[38;5;241m+\u001b[39m\\\n\u001b[0;32m   1318\u001b[0m     args_command \u001b[38;5;241m+\u001b[39m\\\n\u001b[0;32m   1319\u001b[0m     proto\u001b[38;5;241m.\u001b[39mEND_COMMAND_PART\n\u001b[0;32m   1321\u001b[0m answer \u001b[38;5;241m=\u001b[39m \u001b[38;5;28mself\u001b[39m\u001b[38;5;241m.\u001b[39mgateway_client\u001b[38;5;241m.\u001b[39msend_command(command)\n\u001b[1;32m-> 1322\u001b[0m return_value \u001b[38;5;241m=\u001b[39m get_return_value(\n\u001b[0;32m   1323\u001b[0m     answer, \u001b[38;5;28mself\u001b[39m\u001b[38;5;241m.\u001b[39mgateway_client, \u001b[38;5;28mself\u001b[39m\u001b[38;5;241m.\u001b[39mtarget_id, \u001b[38;5;28mself\u001b[39m\u001b[38;5;241m.\u001b[39mname)\n\u001b[0;32m   1325\u001b[0m \u001b[38;5;28;01mfor\u001b[39;00m temp_arg \u001b[38;5;129;01min\u001b[39;00m temp_args:\n\u001b[0;32m   1326\u001b[0m     \u001b[38;5;28;01mif\u001b[39;00m \u001b[38;5;28mhasattr\u001b[39m(temp_arg, \u001b[38;5;124m\"\u001b[39m\u001b[38;5;124m_detach\u001b[39m\u001b[38;5;124m\"\u001b[39m):\n",
      "File \u001b[1;32m~\\anaconda3\\Lib\\site-packages\\pyspark\\errors\\exceptions\\captured.py:179\u001b[0m, in \u001b[0;36mcapture_sql_exception.<locals>.deco\u001b[1;34m(*a, **kw)\u001b[0m\n\u001b[0;32m    177\u001b[0m \u001b[38;5;28;01mdef\u001b[39;00m \u001b[38;5;21mdeco\u001b[39m(\u001b[38;5;241m*\u001b[39ma: Any, \u001b[38;5;241m*\u001b[39m\u001b[38;5;241m*\u001b[39mkw: Any) \u001b[38;5;241m-\u001b[39m\u001b[38;5;241m>\u001b[39m Any:\n\u001b[0;32m    178\u001b[0m     \u001b[38;5;28;01mtry\u001b[39;00m:\n\u001b[1;32m--> 179\u001b[0m         \u001b[38;5;28;01mreturn\u001b[39;00m f(\u001b[38;5;241m*\u001b[39ma, \u001b[38;5;241m*\u001b[39m\u001b[38;5;241m*\u001b[39mkw)\n\u001b[0;32m    180\u001b[0m     \u001b[38;5;28;01mexcept\u001b[39;00m Py4JJavaError \u001b[38;5;28;01mas\u001b[39;00m e:\n\u001b[0;32m    181\u001b[0m         converted \u001b[38;5;241m=\u001b[39m convert_exception(e\u001b[38;5;241m.\u001b[39mjava_exception)\n",
      "File \u001b[1;32m~\\anaconda3\\Lib\\site-packages\\py4j\\protocol.py:326\u001b[0m, in \u001b[0;36mget_return_value\u001b[1;34m(answer, gateway_client, target_id, name)\u001b[0m\n\u001b[0;32m    324\u001b[0m value \u001b[38;5;241m=\u001b[39m OUTPUT_CONVERTER[\u001b[38;5;28mtype\u001b[39m](answer[\u001b[38;5;241m2\u001b[39m:], gateway_client)\n\u001b[0;32m    325\u001b[0m \u001b[38;5;28;01mif\u001b[39;00m answer[\u001b[38;5;241m1\u001b[39m] \u001b[38;5;241m==\u001b[39m REFERENCE_TYPE:\n\u001b[1;32m--> 326\u001b[0m     \u001b[38;5;28;01mraise\u001b[39;00m Py4JJavaError(\n\u001b[0;32m    327\u001b[0m         \u001b[38;5;124m\"\u001b[39m\u001b[38;5;124mAn error occurred while calling \u001b[39m\u001b[38;5;132;01m{0}\u001b[39;00m\u001b[38;5;132;01m{1}\u001b[39;00m\u001b[38;5;132;01m{2}\u001b[39;00m\u001b[38;5;124m.\u001b[39m\u001b[38;5;130;01m\\n\u001b[39;00m\u001b[38;5;124m\"\u001b[39m\u001b[38;5;241m.\u001b[39m\n\u001b[0;32m    328\u001b[0m         \u001b[38;5;28mformat\u001b[39m(target_id, \u001b[38;5;124m\"\u001b[39m\u001b[38;5;124m.\u001b[39m\u001b[38;5;124m\"\u001b[39m, name), value)\n\u001b[0;32m    329\u001b[0m \u001b[38;5;28;01melse\u001b[39;00m:\n\u001b[0;32m    330\u001b[0m     \u001b[38;5;28;01mraise\u001b[39;00m Py4JError(\n\u001b[0;32m    331\u001b[0m         \u001b[38;5;124m\"\u001b[39m\u001b[38;5;124mAn error occurred while calling \u001b[39m\u001b[38;5;132;01m{0}\u001b[39;00m\u001b[38;5;132;01m{1}\u001b[39;00m\u001b[38;5;132;01m{2}\u001b[39;00m\u001b[38;5;124m. Trace:\u001b[39m\u001b[38;5;130;01m\\n\u001b[39;00m\u001b[38;5;132;01m{3}\u001b[39;00m\u001b[38;5;130;01m\\n\u001b[39;00m\u001b[38;5;124m\"\u001b[39m\u001b[38;5;241m.\u001b[39m\n\u001b[0;32m    332\u001b[0m         \u001b[38;5;28mformat\u001b[39m(target_id, \u001b[38;5;124m\"\u001b[39m\u001b[38;5;124m.\u001b[39m\u001b[38;5;124m\"\u001b[39m, name, value))\n",
      "\u001b[1;31mPy4JJavaError\u001b[0m: An error occurred while calling o56.collectToPython.\n: org.apache.spark.SparkException: Job aborted due to stage failure: Task 5 in stage 3.0 failed 1 times, most recent failure: Lost task 5.0 in stage 3.0 (TID 8) (DESKTOP-IK25UHA executor driver): TaskResultLost (result lost from block manager)\nDriver stacktrace:\r\n\tat org.apache.spark.scheduler.DAGScheduler.failJobAndIndependentStages(DAGScheduler.scala:2856)\r\n\tat org.apache.spark.scheduler.DAGScheduler.$anonfun$abortStage$2(DAGScheduler.scala:2792)\r\n\tat org.apache.spark.scheduler.DAGScheduler.$anonfun$abortStage$2$adapted(DAGScheduler.scala:2791)\r\n\tat scala.collection.mutable.ResizableArray.foreach(ResizableArray.scala:62)\r\n\tat scala.collection.mutable.ResizableArray.foreach$(ResizableArray.scala:55)\r\n\tat scala.collection.mutable.ArrayBuffer.foreach(ArrayBuffer.scala:49)\r\n\tat org.apache.spark.scheduler.DAGScheduler.abortStage(DAGScheduler.scala:2791)\r\n\tat org.apache.spark.scheduler.DAGScheduler.$anonfun$handleTaskSetFailed$1(DAGScheduler.scala:1247)\r\n\tat org.apache.spark.scheduler.DAGScheduler.$anonfun$handleTaskSetFailed$1$adapted(DAGScheduler.scala:1247)\r\n\tat scala.Option.foreach(Option.scala:407)\r\n\tat org.apache.spark.scheduler.DAGScheduler.handleTaskSetFailed(DAGScheduler.scala:1247)\r\n\tat org.apache.spark.scheduler.DAGSchedulerEventProcessLoop.doOnReceive(DAGScheduler.scala:3060)\r\n\tat org.apache.spark.scheduler.DAGSchedulerEventProcessLoop.onReceive(DAGScheduler.scala:2994)\r\n\tat org.apache.spark.scheduler.DAGSchedulerEventProcessLoop.onReceive(DAGScheduler.scala:2983)\r\n\tat org.apache.spark.util.EventLoop$$anon$1.run(EventLoop.scala:49)\r\n\tat org.apache.spark.scheduler.DAGScheduler.runJob(DAGScheduler.scala:989)\r\n\tat org.apache.spark.SparkContext.runJob(SparkContext.scala:2398)\r\n\tat org.apache.spark.SparkContext.runJob(SparkContext.scala:2419)\r\n\tat org.apache.spark.SparkContext.runJob(SparkContext.scala:2438)\r\n\tat org.apache.spark.SparkContext.runJob(SparkContext.scala:2463)\r\n\tat org.apache.spark.rdd.RDD.$anonfun$collect$1(RDD.scala:1049)\r\n\tat org.apache.spark.rdd.RDDOperationScope$.withScope(RDDOperationScope.scala:151)\r\n\tat org.apache.spark.rdd.RDDOperationScope$.withScope(RDDOperationScope.scala:112)\r\n\tat org.apache.spark.rdd.RDD.withScope(RDD.scala:410)\r\n\tat org.apache.spark.rdd.RDD.collect(RDD.scala:1048)\r\n\tat org.apache.spark.sql.execution.SparkPlan.executeCollect(SparkPlan.scala:448)\r\n\tat org.apache.spark.sql.Dataset.$anonfun$collectToPython$1(Dataset.scala:4148)\r\n\tat org.apache.spark.sql.Dataset.$anonfun$withAction$2(Dataset.scala:4322)\r\n\tat org.apache.spark.sql.execution.QueryExecution$.withInternalError(QueryExecution.scala:546)\r\n\tat org.apache.spark.sql.Dataset.$anonfun$withAction$1(Dataset.scala:4320)\r\n\tat org.apache.spark.sql.execution.SQLExecution$.$anonfun$withNewExecutionId$6(SQLExecution.scala:125)\r\n\tat org.apache.spark.sql.execution.SQLExecution$.withSQLConfPropagated(SQLExecution.scala:201)\r\n\tat org.apache.spark.sql.execution.SQLExecution$.$anonfun$withNewExecutionId$1(SQLExecution.scala:108)\r\n\tat org.apache.spark.sql.SparkSession.withActive(SparkSession.scala:900)\r\n\tat org.apache.spark.sql.execution.SQLExecution$.withNewExecutionId(SQLExecution.scala:66)\r\n\tat org.apache.spark.sql.Dataset.withAction(Dataset.scala:4320)\r\n\tat org.apache.spark.sql.Dataset.collectToPython(Dataset.scala:4145)\r\n\tat java.base/jdk.internal.reflect.NativeMethodAccessorImpl.invoke0(Native Method)\r\n\tat java.base/jdk.internal.reflect.NativeMethodAccessorImpl.invoke(NativeMethodAccessorImpl.java:75)\r\n\tat java.base/jdk.internal.reflect.DelegatingMethodAccessorImpl.invoke(DelegatingMethodAccessorImpl.java:52)\r\n\tat java.base/java.lang.reflect.Method.invoke(Method.java:580)\r\n\tat py4j.reflection.MethodInvoker.invoke(MethodInvoker.java:244)\r\n\tat py4j.reflection.ReflectionEngine.invoke(ReflectionEngine.java:374)\r\n\tat py4j.Gateway.invoke(Gateway.java:282)\r\n\tat py4j.commands.AbstractCommand.invokeMethod(AbstractCommand.java:132)\r\n\tat py4j.commands.CallCommand.execute(CallCommand.java:79)\r\n\tat py4j.ClientServerConnection.waitForCommands(ClientServerConnection.java:182)\r\n\tat py4j.ClientServerConnection.run(ClientServerConnection.java:106)\r\n\tat java.base/java.lang.Thread.run(Thread.java:1583)\r\n"
     ]
    }
   ],
   "source": [
    "from pyspark.sql import *  \n",
    "from pyspark.sql.functions import *  \n",
    "from pyspark.sql.types import *  \n",
    "import numpy as np    \n",
    "import pandas as pd\n",
    "\n",
    "\n",
    "reviews_pandas_df= result.select(\"*\").toPandas()"
   ]
  },
  {
   "cell_type": "code",
   "execution_count": 6,
   "id": "655cf539",
   "metadata": {},
   "outputs": [
    {
     "name": "stdout",
     "output_type": "stream",
     "text": [
      "+--------+------+--------------------+\n",
      "| book_id|rating|             user_id|\n",
      "+--------+------+--------------------+\n",
      "|25913122|     4|2ce9cf233c1503ed5...|\n",
      "|27823971|     3|2ce9cf233c1503ed5...|\n",
      "|25796670|     2|2ce9cf233c1503ed5...|\n",
      "|25778324|     5|2ce9cf233c1503ed5...|\n",
      "|18712886|     2|2ce9cf233c1503ed5...|\n",
      "|28963557|     5|2ce9cf233c1503ed5...|\n",
      "|25469092|     4|2ce9cf233c1503ed5...|\n",
      "|22037944|     4|2ce9cf233c1503ed5...|\n",
      "|18499402|     4|2ce9cf233c1503ed5...|\n",
      "|26798985|     4|2ce9cf233c1503ed5...|\n",
      "|25432891|     4|2ce9cf233c1503ed5...|\n",
      "| 3373897|     2|2ce9cf233c1503ed5...|\n",
      "|16080337|     4|2ce9cf233c1503ed5...|\n",
      "|18076991|     4|2ce9cf233c1503ed5...|\n",
      "|18483104|     3|2ce9cf233c1503ed5...|\n",
      "|20560907|     3|2ce9cf233c1503ed5...|\n",
      "|17661625|     4|2ce9cf233c1503ed5...|\n",
      "|20613470|     5|2ce9cf233c1503ed5...|\n",
      "|22037901|     5|2ce9cf233c1503ed5...|\n",
      "|13266803|     5|2ce9cf233c1503ed5...|\n",
      "+--------+------+--------------------+\n",
      "only showing top 20 rows\n",
      "\n"
     ]
    }
   ],
   "source": [
    "# Assuming df is your Spark DataFrame\n",
    "columns_to_drop = [\"review_text\"]  # List of columns to drop\n",
    "\n",
    "# Drop the specified columns\n",
    "result = result.drop(*columns_to_drop)\n",
    "\n",
    "# Show the result\n",
    "result.show()"
   ]
  },
  {
   "cell_type": "code",
   "execution_count": 7,
   "id": "a86bb344",
   "metadata": {},
   "outputs": [],
   "source": [
    "from pyspark.sql import *  \n",
    "from pyspark.sql.functions import *  \n",
    "from pyspark.sql.types import *  \n",
    "import numpy as np    \n",
    "import pandas as pd\n",
    "\n",
    "\n",
    "reviews_pandas_df= result.select(\"*\").toPandas()"
   ]
  },
  {
   "cell_type": "code",
   "execution_count": 8,
   "id": "2ec5d206",
   "metadata": {},
   "outputs": [
    {
     "data": {
      "text/html": [
       "<div>\n",
       "<style scoped>\n",
       "    .dataframe tbody tr th:only-of-type {\n",
       "        vertical-align: middle;\n",
       "    }\n",
       "\n",
       "    .dataframe tbody tr th {\n",
       "        vertical-align: top;\n",
       "    }\n",
       "\n",
       "    .dataframe thead th {\n",
       "        text-align: right;\n",
       "    }\n",
       "</style>\n",
       "<table border=\"1\" class=\"dataframe\">\n",
       "  <thead>\n",
       "    <tr style=\"text-align: right;\">\n",
       "      <th></th>\n",
       "      <th>book_id</th>\n",
       "      <th>rating</th>\n",
       "      <th>user_id</th>\n",
       "    </tr>\n",
       "  </thead>\n",
       "  <tbody>\n",
       "    <tr>\n",
       "      <th>0</th>\n",
       "      <td>25913122</td>\n",
       "      <td>4</td>\n",
       "      <td>2ce9cf233c1503ed57866e80ec4d060c</td>\n",
       "    </tr>\n",
       "    <tr>\n",
       "      <th>1</th>\n",
       "      <td>27823971</td>\n",
       "      <td>3</td>\n",
       "      <td>2ce9cf233c1503ed57866e80ec4d060c</td>\n",
       "    </tr>\n",
       "    <tr>\n",
       "      <th>2</th>\n",
       "      <td>25796670</td>\n",
       "      <td>2</td>\n",
       "      <td>2ce9cf233c1503ed57866e80ec4d060c</td>\n",
       "    </tr>\n",
       "    <tr>\n",
       "      <th>3</th>\n",
       "      <td>25778324</td>\n",
       "      <td>5</td>\n",
       "      <td>2ce9cf233c1503ed57866e80ec4d060c</td>\n",
       "    </tr>\n",
       "    <tr>\n",
       "      <th>4</th>\n",
       "      <td>18712886</td>\n",
       "      <td>2</td>\n",
       "      <td>2ce9cf233c1503ed57866e80ec4d060c</td>\n",
       "    </tr>\n",
       "    <tr>\n",
       "      <th>...</th>\n",
       "      <td>...</td>\n",
       "      <td>...</td>\n",
       "      <td>...</td>\n",
       "    </tr>\n",
       "    <tr>\n",
       "      <th>3424636</th>\n",
       "      <td>5907</td>\n",
       "      <td>5</td>\n",
       "      <td>9a1e8a72fadaa8f3038aa783114e12cc</td>\n",
       "    </tr>\n",
       "    <tr>\n",
       "      <th>3424637</th>\n",
       "      <td>6137154</td>\n",
       "      <td>5</td>\n",
       "      <td>a13e16a58266ffa4a0851c417c4cda8f</td>\n",
       "    </tr>\n",
       "    <tr>\n",
       "      <th>3424638</th>\n",
       "      <td>41804</td>\n",
       "      <td>4</td>\n",
       "      <td>007c41115862813421ff17dde43728b3</td>\n",
       "    </tr>\n",
       "    <tr>\n",
       "      <th>3424639</th>\n",
       "      <td>14740456</td>\n",
       "      <td>4</td>\n",
       "      <td>fc5aea6994fc754daefa27cbea10ac79</td>\n",
       "    </tr>\n",
       "    <tr>\n",
       "      <th>3424640</th>\n",
       "      <td>1656001</td>\n",
       "      <td>4</td>\n",
       "      <td>d0f6d1a4edcab80a6010cfcfeda4999f</td>\n",
       "    </tr>\n",
       "  </tbody>\n",
       "</table>\n",
       "<p>3424641 rows × 3 columns</p>\n",
       "</div>"
      ],
      "text/plain": [
       "          book_id  rating                           user_id\n",
       "0        25913122       4  2ce9cf233c1503ed57866e80ec4d060c\n",
       "1        27823971       3  2ce9cf233c1503ed57866e80ec4d060c\n",
       "2        25796670       2  2ce9cf233c1503ed57866e80ec4d060c\n",
       "3        25778324       5  2ce9cf233c1503ed57866e80ec4d060c\n",
       "4        18712886       2  2ce9cf233c1503ed57866e80ec4d060c\n",
       "...           ...     ...                               ...\n",
       "3424636      5907       5  9a1e8a72fadaa8f3038aa783114e12cc\n",
       "3424637   6137154       5  a13e16a58266ffa4a0851c417c4cda8f\n",
       "3424638     41804       4  007c41115862813421ff17dde43728b3\n",
       "3424639  14740456       4  fc5aea6994fc754daefa27cbea10ac79\n",
       "3424640   1656001       4  d0f6d1a4edcab80a6010cfcfeda4999f\n",
       "\n",
       "[3424641 rows x 3 columns]"
      ]
     },
     "execution_count": 8,
     "metadata": {},
     "output_type": "execute_result"
    }
   ],
   "source": [
    "reviews_pandas_df"
   ]
  },
  {
   "cell_type": "code",
   "execution_count": 9,
   "id": "0aea57f7",
   "metadata": {},
   "outputs": [],
   "source": [
    "# Stop SparkSession\n",
    "spark.stop()"
   ]
  },
  {
   "cell_type": "code",
   "execution_count": null,
   "id": "3ee9596b",
   "metadata": {},
   "outputs": [],
   "source": []
  }
 ],
 "metadata": {
  "kernelspec": {
   "display_name": "Python 3 (ipykernel)",
   "language": "python",
   "name": "python3"
  },
  "language_info": {
   "codemirror_mode": {
    "name": "ipython",
    "version": 3
   },
   "file_extension": ".py",
   "mimetype": "text/x-python",
   "name": "python",
   "nbconvert_exporter": "python",
   "pygments_lexer": "ipython3",
   "version": "3.11.5"
  }
 },
 "nbformat": 4,
 "nbformat_minor": 5
}
