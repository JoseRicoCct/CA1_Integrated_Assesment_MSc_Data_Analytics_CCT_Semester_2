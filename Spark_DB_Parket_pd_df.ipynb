{
 "cells": [
  {
   "cell_type": "code",
   "execution_count": 1,
   "id": "81544e81",
   "metadata": {},
   "outputs": [
    {
     "data": {
      "text/plain": [
       "DataFrame[]"
      ]
     },
     "execution_count": 1,
     "metadata": {},
     "output_type": "execute_result"
    }
   ],
   "source": [
    "from pyspark.sql import SparkSession\n",
    "\n",
    "# Initialize SparkSession\n",
    "spark = SparkSession.builder \\\n",
    "    .appName(\"Create Database from Parquet\") \\\n",
    "    .config(\"spark.driver.memory\", \"4g\") \\\n",
    "    .getOrCreate()\n",
    "\n",
    "# Create a database\n",
    "spark.sql(\"CREATE DATABASE IF NOT EXISTS goodreads_reviews\")\n",
    "\n",
    "# Select the database\n",
    "spark.sql(\"USE goodreads_reviews\")\n",
    "\n",
    "# Save DataFrame as a table in the database\n",
    "spark.sql(\"CREATE TABLE IF NOT EXISTS reviews USING parquet OPTIONS (PATH 'C:/Users/jose/Downloads/goodreads_reviews_parquet')\")"
   ]
  },
  {
   "cell_type": "markdown",
   "id": "dcedd79f",
   "metadata": {},
   "source": [
    "## Table Check:"
   ]
  },
  {
   "cell_type": "code",
   "execution_count": 2,
   "id": "161e6297",
   "metadata": {},
   "outputs": [
    {
     "name": "stdout",
     "output_type": "stream",
     "text": [
      "+-----------------+---------+-----------+\n",
      "|        namespace|tableName|isTemporary|\n",
      "+-----------------+---------+-----------+\n",
      "|goodreads_reviews|  reviews|      false|\n",
      "+-----------------+---------+-----------+\n",
      "\n"
     ]
    }
   ],
   "source": [
    "# Show tables in the current schema\n",
    "spark.sql(\"SHOW TABLES\").show()"
   ]
  },
  {
   "cell_type": "code",
   "execution_count": 3,
   "id": "34089e39",
   "metadata": {},
   "outputs": [
    {
     "name": "stdout",
     "output_type": "stream",
     "text": [
      "+--------+--------------------+--------------------+----------+-------+------+--------------------+--------------------+--------------------+--------------------+--------------------+\n",
      "| book_id|          date_added|        date_updated|n_comments|n_votes|rating|             read_at|           review_id|         review_text|          started_at|             user_id|\n",
      "+--------+--------------------+--------------------+----------+-------+------+--------------------+--------------------+--------------------+--------------------+--------------------+\n",
      "|25913122|Tue Dec 29 13:45:...|Fri Aug 26 11:01:...|         2|      5|     4|Tue Jul 12 00:00:...|6083f89f3e7ea38c4...|Compre este libro...|Tue Jul 12 00:00:...|2ce9cf233c1503ed5...|\n",
      "|27823971|Wed Oct 28 07:51:...|Wed Feb 17 21:02:...|         1|      2|     3|Wed Feb 17 00:00:...|28b70411d46da4471...|No puedo ser impa...|Sat Feb 13 00:00:...|2ce9cf233c1503ed5...|\n",
      "|25796670|Sat Oct 03 14:14:...|Wed Mar 16 00:51:...|         1|      4|     2|Tue Mar 01 00:00:...|19bf120725a27a6d9...|Habia desistido d...|Mon Feb 29 00:00:...|2ce9cf233c1503ed5...|\n",
      "|25778324|Sat Oct 03 14:12:...|Mon Feb 29 01:19:...|         0|      4|     5|Mon Feb 29 07:42:...|d1eb66873ca3cded0...|Llegue a este lib...|Mon Feb 22 00:00:...|2ce9cf233c1503ed5...|\n",
      "|18712886|Tue Jul 21 21:54:...|Fri Oct 14 19:31:...|         2|      9|     2|Tue Jul 19 00:00:...|f8ebbbf1bc4705621...|Confieso desde un...|Thu Jun 30 00:00:...|2ce9cf233c1503ed5...|\n",
      "|28963557|Thu Jun 04 22:07:...|Mon Jan 16 16:12:...|         0|      4|     5|Mon Jan 16 13:50:...|a36b1b5ba2a3c96b8...|           Perfecto.|Thu Jan 12 00:00:...|2ce9cf233c1503ed5...|\n",
      "|25469092|Thu Jun 04 13:39:...|Fri Dec 23 19:17:...|         0|      3|     4|Fri Dec 23 00:00:...|e2dd3f9bc925db9d0...|Aunque me gusto m...|Sat Sep 17 00:00:...|2ce9cf233c1503ed5...|\n",
      "|22037944|Thu Jun 04 13:39:...|Tue Oct 25 17:44:...|         0|      8|     4|Tue Sep 06 00:00:...|1fad2e39d1c894e28...|Que dificil es re...|Mon Aug 01 00:00:...|2ce9cf233c1503ed5...|\n",
      "|18499402|Thu Jun 04 13:38:...|Mon Sep 19 13:01:...|         0|      2|     4|Mon Jul 25 00:00:...|c926729a0636597a4...|Quise leer este l...|Tue Jul 19 00:00:...|2ce9cf233c1503ed5...|\n",
      "|26798985|Sat May 30 18:37:...|Fri Sep 09 12:46:...|         0|      2|     4|Mon Jul 18 00:00:...|0f0545973b79489b7...|En la resena ante...|Sat Jul 16 00:00:...|2ce9cf233c1503ed5...|\n",
      "|25432891|Sat May 30 18:36:...|Tue Sep 06 13:36:...|         1|      6|     4|Sat Jul 16 00:00:...|0f6a828470ede1168...|Bueno, voy a ser ...|Fri Jul 15 00:00:...|2ce9cf233c1503ed5...|\n",
      "| 3373897|Fri May 29 21:43:...|Fri Jun 05 18:06:...|         1|      0|     2|Fri Jun 05 00:00:...|f070617a0c61ae60a...|Estuvo bien, pero...|Tue Jan 01 00:00:...|2ce9cf233c1503ed5...|\n",
      "|16080337|Thu May 28 18:31:...|Mon Apr 03 20:11:...|         1|      6|     4|Sun Apr 24 00:00:...|426a72e373bc9896a...|Cuando vi este li...|Sat Apr 23 00:00:...|2ce9cf233c1503ed5...|\n",
      "|18076991|Thu May 28 18:30:...|Fri Sep 02 12:27:...|         0|      3|     4|Tue Jun 21 00:00:...|a35388f2774898813...|I liked this one ...|Tue Jun 21 00:00:...|2ce9cf233c1503ed5...|\n",
      "|18483104|Thu May 28 18:30:...|Fri Sep 02 12:26:...|         0|      3|     3|Tue Jun 21 00:00:...|d34264bdd14d3cf49...|This a well-writt...|Sun Jun 12 00:00:...|2ce9cf233c1503ed5...|\n",
      "|20560907|Thu May 28 18:29:...|Tue Jan 24 18:47:...|         0|      1|     3|Tue Jan 24 00:00:...|7a46f744242bb0927...|Es un 2,5. Es poc...|Thu Jan 19 00:00:...|2ce9cf233c1503ed5...|\n",
      "|17661625|Thu May 28 18:29:...|Thu Apr 28 16:59:...|         0|      5|     4|Wed Mar 16 00:00:...|e33d3e6feaedea3c8...|Tenia que leer es...|Thu Mar 10 00:00:...|2ce9cf233c1503ed5...|\n",
      "|20613470|Thu May 28 18:27:...|Wed Nov 23 10:50:...|         3|     10|     5|Sat Sep 17 00:00:...|f66cf0cfd02ca28be...|Quise empezar a e...|Tue Sep 06 00:00:...|2ce9cf233c1503ed5...|\n",
      "|22037901|Thu May 28 17:07:...|Sun Jul 31 18:41:...|         1|      4|     5|Wed May 11 00:00:...|82b044c60b87f1944...|Ah, ah, ah. Demor...|Wed May 11 00:00:...|2ce9cf233c1503ed5...|\n",
      "|13266803|Thu May 28 17:07:...|Fri Jul 22 12:45:...|         0|      8|     5|Sat May 07 00:00:...|bcb19a6bb57140384...|Bueno, vengo prim...|Wed Apr 27 00:00:...|2ce9cf233c1503ed5...|\n",
      "+--------+--------------------+--------------------+----------+-------+------+--------------------+--------------------+--------------------+--------------------+--------------------+\n",
      "only showing top 20 rows\n",
      "\n"
     ]
    }
   ],
   "source": [
    "# Use the database\n",
    "spark.sql(\"USE goodreads_reviews\")\n",
    "\n",
    "# Query the data from the table\n",
    "result = spark.sql(\"SELECT * FROM reviews\")\n",
    "\n",
    "# Show the result\n",
    "result.show()"
   ]
  },
  {
   "cell_type": "markdown",
   "id": "88714cd2",
   "metadata": {},
   "source": [
    "## Passing *Spark*  `result` into a pandas dataframe for modelling, first we will drop some columns to avoid the error:\n",
    "## ConnectionRefusedError: [WinError 10061] No connection could be made because the target machine actively refused it."
   ]
  },
  {
   "cell_type": "code",
   "execution_count": 4,
   "id": "eaf6ead7",
   "metadata": {},
   "outputs": [
    {
     "name": "stdout",
     "output_type": "stream",
     "text": [
      "+--------+------+--------------------+--------------------+\n",
      "| book_id|rating|         review_text|             user_id|\n",
      "+--------+------+--------------------+--------------------+\n",
      "|25913122|     4|Compre este libro...|2ce9cf233c1503ed5...|\n",
      "|27823971|     3|No puedo ser impa...|2ce9cf233c1503ed5...|\n",
      "|25796670|     2|Habia desistido d...|2ce9cf233c1503ed5...|\n",
      "|25778324|     5|Llegue a este lib...|2ce9cf233c1503ed5...|\n",
      "|18712886|     2|Confieso desde un...|2ce9cf233c1503ed5...|\n",
      "|28963557|     5|           Perfecto.|2ce9cf233c1503ed5...|\n",
      "|25469092|     4|Aunque me gusto m...|2ce9cf233c1503ed5...|\n",
      "|22037944|     4|Que dificil es re...|2ce9cf233c1503ed5...|\n",
      "|18499402|     4|Quise leer este l...|2ce9cf233c1503ed5...|\n",
      "|26798985|     4|En la resena ante...|2ce9cf233c1503ed5...|\n",
      "|25432891|     4|Bueno, voy a ser ...|2ce9cf233c1503ed5...|\n",
      "| 3373897|     2|Estuvo bien, pero...|2ce9cf233c1503ed5...|\n",
      "|16080337|     4|Cuando vi este li...|2ce9cf233c1503ed5...|\n",
      "|18076991|     4|I liked this one ...|2ce9cf233c1503ed5...|\n",
      "|18483104|     3|This a well-writt...|2ce9cf233c1503ed5...|\n",
      "|20560907|     3|Es un 2,5. Es poc...|2ce9cf233c1503ed5...|\n",
      "|17661625|     4|Tenia que leer es...|2ce9cf233c1503ed5...|\n",
      "|20613470|     5|Quise empezar a e...|2ce9cf233c1503ed5...|\n",
      "|22037901|     5|Ah, ah, ah. Demor...|2ce9cf233c1503ed5...|\n",
      "|13266803|     5|Bueno, vengo prim...|2ce9cf233c1503ed5...|\n",
      "+--------+------+--------------------+--------------------+\n",
      "only showing top 20 rows\n",
      "\n"
     ]
    }
   ],
   "source": [
    "# Assuming df is your Spark DataFrame\n",
    "columns_to_drop = [\"date_added\", \"date_updated\",\"n_comments\",\"n_votes\",\"review_id\",\"started_at\",\"read_at\"]  # List of columns to drop\n",
    "\n",
    "# Drop the specified columns\n",
    "result = result.drop(*columns_to_drop)\n",
    "\n",
    "# Show the result\n",
    "result.show()"
   ]
  },
  {
   "cell_type": "code",
   "execution_count": 5,
   "id": "ef1b4937",
   "metadata": {},
   "outputs": [
    {
     "ename": "Py4JJavaError",
     "evalue": "An error occurred while calling o56.collectToPython.\n: org.apache.spark.SparkException: Job aborted due to stage failure: Task 3 in stage 3.0 failed 1 times, most recent failure: Lost task 3.0 in stage 3.0 (TID 6) (DESKTOP-IK25UHA executor driver): TaskResultLost (result lost from block manager)\nDriver stacktrace:\r\n\tat org.apache.spark.scheduler.DAGScheduler.failJobAndIndependentStages(DAGScheduler.scala:2856)\r\n\tat org.apache.spark.scheduler.DAGScheduler.$anonfun$abortStage$2(DAGScheduler.scala:2792)\r\n\tat org.apache.spark.scheduler.DAGScheduler.$anonfun$abortStage$2$adapted(DAGScheduler.scala:2791)\r\n\tat scala.collection.mutable.ResizableArray.foreach(ResizableArray.scala:62)\r\n\tat scala.collection.mutable.ResizableArray.foreach$(ResizableArray.scala:55)\r\n\tat scala.collection.mutable.ArrayBuffer.foreach(ArrayBuffer.scala:49)\r\n\tat org.apache.spark.scheduler.DAGScheduler.abortStage(DAGScheduler.scala:2791)\r\n\tat org.apache.spark.scheduler.DAGScheduler.$anonfun$handleTaskSetFailed$1(DAGScheduler.scala:1247)\r\n\tat org.apache.spark.scheduler.DAGScheduler.$anonfun$handleTaskSetFailed$1$adapted(DAGScheduler.scala:1247)\r\n\tat scala.Option.foreach(Option.scala:407)\r\n\tat org.apache.spark.scheduler.DAGScheduler.handleTaskSetFailed(DAGScheduler.scala:1247)\r\n\tat org.apache.spark.scheduler.DAGSchedulerEventProcessLoop.doOnReceive(DAGScheduler.scala:3060)\r\n\tat org.apache.spark.scheduler.DAGSchedulerEventProcessLoop.onReceive(DAGScheduler.scala:2994)\r\n\tat org.apache.spark.scheduler.DAGSchedulerEventProcessLoop.onReceive(DAGScheduler.scala:2983)\r\n\tat org.apache.spark.util.EventLoop$$anon$1.run(EventLoop.scala:49)\r\n\tat org.apache.spark.scheduler.DAGScheduler.runJob(DAGScheduler.scala:989)\r\n\tat org.apache.spark.SparkContext.runJob(SparkContext.scala:2398)\r\n\tat org.apache.spark.SparkContext.runJob(SparkContext.scala:2419)\r\n\tat org.apache.spark.SparkContext.runJob(SparkContext.scala:2438)\r\n\tat org.apache.spark.SparkContext.runJob(SparkContext.scala:2463)\r\n\tat org.apache.spark.rdd.RDD.$anonfun$collect$1(RDD.scala:1049)\r\n\tat org.apache.spark.rdd.RDDOperationScope$.withScope(RDDOperationScope.scala:151)\r\n\tat org.apache.spark.rdd.RDDOperationScope$.withScope(RDDOperationScope.scala:112)\r\n\tat org.apache.spark.rdd.RDD.withScope(RDD.scala:410)\r\n\tat org.apache.spark.rdd.RDD.collect(RDD.scala:1048)\r\n\tat org.apache.spark.sql.execution.SparkPlan.executeCollect(SparkPlan.scala:448)\r\n\tat org.apache.spark.sql.Dataset.$anonfun$collectToPython$1(Dataset.scala:4148)\r\n\tat org.apache.spark.sql.Dataset.$anonfun$withAction$2(Dataset.scala:4322)\r\n\tat org.apache.spark.sql.execution.QueryExecution$.withInternalError(QueryExecution.scala:546)\r\n\tat org.apache.spark.sql.Dataset.$anonfun$withAction$1(Dataset.scala:4320)\r\n\tat org.apache.spark.sql.execution.SQLExecution$.$anonfun$withNewExecutionId$6(SQLExecution.scala:125)\r\n\tat org.apache.spark.sql.execution.SQLExecution$.withSQLConfPropagated(SQLExecution.scala:201)\r\n\tat org.apache.spark.sql.execution.SQLExecution$.$anonfun$withNewExecutionId$1(SQLExecution.scala:108)\r\n\tat org.apache.spark.sql.SparkSession.withActive(SparkSession.scala:900)\r\n\tat org.apache.spark.sql.execution.SQLExecution$.withNewExecutionId(SQLExecution.scala:66)\r\n\tat org.apache.spark.sql.Dataset.withAction(Dataset.scala:4320)\r\n\tat org.apache.spark.sql.Dataset.collectToPython(Dataset.scala:4145)\r\n\tat java.base/jdk.internal.reflect.NativeMethodAccessorImpl.invoke0(Native Method)\r\n\tat java.base/jdk.internal.reflect.NativeMethodAccessorImpl.invoke(NativeMethodAccessorImpl.java:75)\r\n\tat java.base/jdk.internal.reflect.DelegatingMethodAccessorImpl.invoke(DelegatingMethodAccessorImpl.java:52)\r\n\tat java.base/java.lang.reflect.Method.invoke(Method.java:580)\r\n\tat py4j.reflection.MethodInvoker.invoke(MethodInvoker.java:244)\r\n\tat py4j.reflection.ReflectionEngine.invoke(ReflectionEngine.java:374)\r\n\tat py4j.Gateway.invoke(Gateway.java:282)\r\n\tat py4j.commands.AbstractCommand.invokeMethod(AbstractCommand.java:132)\r\n\tat py4j.commands.CallCommand.execute(CallCommand.java:79)\r\n\tat py4j.ClientServerConnection.waitForCommands(ClientServerConnection.java:182)\r\n\tat py4j.ClientServerConnection.run(ClientServerConnection.java:106)\r\n\tat java.base/java.lang.Thread.run(Thread.java:1583)\r\n",
     "output_type": "error",
     "traceback": [
      "\u001b[1;31m---------------------------------------------------------------------------\u001b[0m",
      "\u001b[1;31mPy4JJavaError\u001b[0m                             Traceback (most recent call last)",
      "Cell \u001b[1;32mIn[5], line 8\u001b[0m\n\u001b[0;32m      4\u001b[0m \u001b[38;5;28;01mimport\u001b[39;00m \u001b[38;5;21;01mnumpy\u001b[39;00m \u001b[38;5;28;01mas\u001b[39;00m \u001b[38;5;21;01mnp\u001b[39;00m    \n\u001b[0;32m      5\u001b[0m \u001b[38;5;28;01mimport\u001b[39;00m \u001b[38;5;21;01mpandas\u001b[39;00m \u001b[38;5;28;01mas\u001b[39;00m \u001b[38;5;21;01mpd\u001b[39;00m\n\u001b[1;32m----> 8\u001b[0m reviews_pandas_df\u001b[38;5;241m=\u001b[39m result\u001b[38;5;241m.\u001b[39mselect(\u001b[38;5;124m\"\u001b[39m\u001b[38;5;124m*\u001b[39m\u001b[38;5;124m\"\u001b[39m)\u001b[38;5;241m.\u001b[39mtoPandas()\n",
      "File \u001b[1;32m~\\anaconda3\\Lib\\site-packages\\pyspark\\sql\\pandas\\conversion.py:202\u001b[0m, in \u001b[0;36mPandasConversionMixin.toPandas\u001b[1;34m(self)\u001b[0m\n\u001b[0;32m    199\u001b[0m             \u001b[38;5;28;01mraise\u001b[39;00m\n\u001b[0;32m    201\u001b[0m \u001b[38;5;66;03m# Below is toPandas without Arrow optimization.\u001b[39;00m\n\u001b[1;32m--> 202\u001b[0m rows \u001b[38;5;241m=\u001b[39m \u001b[38;5;28mself\u001b[39m\u001b[38;5;241m.\u001b[39mcollect()\n\u001b[0;32m    203\u001b[0m \u001b[38;5;28;01mif\u001b[39;00m \u001b[38;5;28mlen\u001b[39m(rows) \u001b[38;5;241m>\u001b[39m \u001b[38;5;241m0\u001b[39m:\n\u001b[0;32m    204\u001b[0m     pdf \u001b[38;5;241m=\u001b[39m pd\u001b[38;5;241m.\u001b[39mDataFrame\u001b[38;5;241m.\u001b[39mfrom_records(\n\u001b[0;32m    205\u001b[0m         rows, index\u001b[38;5;241m=\u001b[39m\u001b[38;5;28mrange\u001b[39m(\u001b[38;5;28mlen\u001b[39m(rows)), columns\u001b[38;5;241m=\u001b[39m\u001b[38;5;28mself\u001b[39m\u001b[38;5;241m.\u001b[39mcolumns  \u001b[38;5;66;03m# type: ignore[arg-type]\u001b[39;00m\n\u001b[0;32m    206\u001b[0m     )\n",
      "File \u001b[1;32m~\\anaconda3\\Lib\\site-packages\\pyspark\\sql\\dataframe.py:1261\u001b[0m, in \u001b[0;36mDataFrame.collect\u001b[1;34m(self)\u001b[0m\n\u001b[0;32m   1241\u001b[0m \u001b[38;5;250m\u001b[39m\u001b[38;5;124;03m\"\"\"Returns all the records as a list of :class:`Row`.\u001b[39;00m\n\u001b[0;32m   1242\u001b[0m \n\u001b[0;32m   1243\u001b[0m \u001b[38;5;124;03m.. versionadded:: 1.3.0\u001b[39;00m\n\u001b[1;32m   (...)\u001b[0m\n\u001b[0;32m   1258\u001b[0m \u001b[38;5;124;03m[Row(age=14, name='Tom'), Row(age=23, name='Alice'), Row(age=16, name='Bob')]\u001b[39;00m\n\u001b[0;32m   1259\u001b[0m \u001b[38;5;124;03m\"\"\"\u001b[39;00m\n\u001b[0;32m   1260\u001b[0m \u001b[38;5;28;01mwith\u001b[39;00m SCCallSiteSync(\u001b[38;5;28mself\u001b[39m\u001b[38;5;241m.\u001b[39m_sc):\n\u001b[1;32m-> 1261\u001b[0m     sock_info \u001b[38;5;241m=\u001b[39m \u001b[38;5;28mself\u001b[39m\u001b[38;5;241m.\u001b[39m_jdf\u001b[38;5;241m.\u001b[39mcollectToPython()\n\u001b[0;32m   1262\u001b[0m \u001b[38;5;28;01mreturn\u001b[39;00m \u001b[38;5;28mlist\u001b[39m(_load_from_socket(sock_info, BatchedSerializer(CPickleSerializer())))\n",
      "File \u001b[1;32m~\\anaconda3\\Lib\\site-packages\\py4j\\java_gateway.py:1322\u001b[0m, in \u001b[0;36mJavaMember.__call__\u001b[1;34m(self, *args)\u001b[0m\n\u001b[0;32m   1316\u001b[0m command \u001b[38;5;241m=\u001b[39m proto\u001b[38;5;241m.\u001b[39mCALL_COMMAND_NAME \u001b[38;5;241m+\u001b[39m\\\n\u001b[0;32m   1317\u001b[0m     \u001b[38;5;28mself\u001b[39m\u001b[38;5;241m.\u001b[39mcommand_header \u001b[38;5;241m+\u001b[39m\\\n\u001b[0;32m   1318\u001b[0m     args_command \u001b[38;5;241m+\u001b[39m\\\n\u001b[0;32m   1319\u001b[0m     proto\u001b[38;5;241m.\u001b[39mEND_COMMAND_PART\n\u001b[0;32m   1321\u001b[0m answer \u001b[38;5;241m=\u001b[39m \u001b[38;5;28mself\u001b[39m\u001b[38;5;241m.\u001b[39mgateway_client\u001b[38;5;241m.\u001b[39msend_command(command)\n\u001b[1;32m-> 1322\u001b[0m return_value \u001b[38;5;241m=\u001b[39m get_return_value(\n\u001b[0;32m   1323\u001b[0m     answer, \u001b[38;5;28mself\u001b[39m\u001b[38;5;241m.\u001b[39mgateway_client, \u001b[38;5;28mself\u001b[39m\u001b[38;5;241m.\u001b[39mtarget_id, \u001b[38;5;28mself\u001b[39m\u001b[38;5;241m.\u001b[39mname)\n\u001b[0;32m   1325\u001b[0m \u001b[38;5;28;01mfor\u001b[39;00m temp_arg \u001b[38;5;129;01min\u001b[39;00m temp_args:\n\u001b[0;32m   1326\u001b[0m     \u001b[38;5;28;01mif\u001b[39;00m \u001b[38;5;28mhasattr\u001b[39m(temp_arg, \u001b[38;5;124m\"\u001b[39m\u001b[38;5;124m_detach\u001b[39m\u001b[38;5;124m\"\u001b[39m):\n",
      "File \u001b[1;32m~\\anaconda3\\Lib\\site-packages\\pyspark\\errors\\exceptions\\captured.py:179\u001b[0m, in \u001b[0;36mcapture_sql_exception.<locals>.deco\u001b[1;34m(*a, **kw)\u001b[0m\n\u001b[0;32m    177\u001b[0m \u001b[38;5;28;01mdef\u001b[39;00m \u001b[38;5;21mdeco\u001b[39m(\u001b[38;5;241m*\u001b[39ma: Any, \u001b[38;5;241m*\u001b[39m\u001b[38;5;241m*\u001b[39mkw: Any) \u001b[38;5;241m-\u001b[39m\u001b[38;5;241m>\u001b[39m Any:\n\u001b[0;32m    178\u001b[0m     \u001b[38;5;28;01mtry\u001b[39;00m:\n\u001b[1;32m--> 179\u001b[0m         \u001b[38;5;28;01mreturn\u001b[39;00m f(\u001b[38;5;241m*\u001b[39ma, \u001b[38;5;241m*\u001b[39m\u001b[38;5;241m*\u001b[39mkw)\n\u001b[0;32m    180\u001b[0m     \u001b[38;5;28;01mexcept\u001b[39;00m Py4JJavaError \u001b[38;5;28;01mas\u001b[39;00m e:\n\u001b[0;32m    181\u001b[0m         converted \u001b[38;5;241m=\u001b[39m convert_exception(e\u001b[38;5;241m.\u001b[39mjava_exception)\n",
      "File \u001b[1;32m~\\anaconda3\\Lib\\site-packages\\py4j\\protocol.py:326\u001b[0m, in \u001b[0;36mget_return_value\u001b[1;34m(answer, gateway_client, target_id, name)\u001b[0m\n\u001b[0;32m    324\u001b[0m value \u001b[38;5;241m=\u001b[39m OUTPUT_CONVERTER[\u001b[38;5;28mtype\u001b[39m](answer[\u001b[38;5;241m2\u001b[39m:], gateway_client)\n\u001b[0;32m    325\u001b[0m \u001b[38;5;28;01mif\u001b[39;00m answer[\u001b[38;5;241m1\u001b[39m] \u001b[38;5;241m==\u001b[39m REFERENCE_TYPE:\n\u001b[1;32m--> 326\u001b[0m     \u001b[38;5;28;01mraise\u001b[39;00m Py4JJavaError(\n\u001b[0;32m    327\u001b[0m         \u001b[38;5;124m\"\u001b[39m\u001b[38;5;124mAn error occurred while calling \u001b[39m\u001b[38;5;132;01m{0}\u001b[39;00m\u001b[38;5;132;01m{1}\u001b[39;00m\u001b[38;5;132;01m{2}\u001b[39;00m\u001b[38;5;124m.\u001b[39m\u001b[38;5;130;01m\\n\u001b[39;00m\u001b[38;5;124m\"\u001b[39m\u001b[38;5;241m.\u001b[39m\n\u001b[0;32m    328\u001b[0m         \u001b[38;5;28mformat\u001b[39m(target_id, \u001b[38;5;124m\"\u001b[39m\u001b[38;5;124m.\u001b[39m\u001b[38;5;124m\"\u001b[39m, name), value)\n\u001b[0;32m    329\u001b[0m \u001b[38;5;28;01melse\u001b[39;00m:\n\u001b[0;32m    330\u001b[0m     \u001b[38;5;28;01mraise\u001b[39;00m Py4JError(\n\u001b[0;32m    331\u001b[0m         \u001b[38;5;124m\"\u001b[39m\u001b[38;5;124mAn error occurred while calling \u001b[39m\u001b[38;5;132;01m{0}\u001b[39;00m\u001b[38;5;132;01m{1}\u001b[39;00m\u001b[38;5;132;01m{2}\u001b[39;00m\u001b[38;5;124m. Trace:\u001b[39m\u001b[38;5;130;01m\\n\u001b[39;00m\u001b[38;5;132;01m{3}\u001b[39;00m\u001b[38;5;130;01m\\n\u001b[39;00m\u001b[38;5;124m\"\u001b[39m\u001b[38;5;241m.\u001b[39m\n\u001b[0;32m    332\u001b[0m         \u001b[38;5;28mformat\u001b[39m(target_id, \u001b[38;5;124m\"\u001b[39m\u001b[38;5;124m.\u001b[39m\u001b[38;5;124m\"\u001b[39m, name, value))\n",
      "\u001b[1;31mPy4JJavaError\u001b[0m: An error occurred while calling o56.collectToPython.\n: org.apache.spark.SparkException: Job aborted due to stage failure: Task 3 in stage 3.0 failed 1 times, most recent failure: Lost task 3.0 in stage 3.0 (TID 6) (DESKTOP-IK25UHA executor driver): TaskResultLost (result lost from block manager)\nDriver stacktrace:\r\n\tat org.apache.spark.scheduler.DAGScheduler.failJobAndIndependentStages(DAGScheduler.scala:2856)\r\n\tat org.apache.spark.scheduler.DAGScheduler.$anonfun$abortStage$2(DAGScheduler.scala:2792)\r\n\tat org.apache.spark.scheduler.DAGScheduler.$anonfun$abortStage$2$adapted(DAGScheduler.scala:2791)\r\n\tat scala.collection.mutable.ResizableArray.foreach(ResizableArray.scala:62)\r\n\tat scala.collection.mutable.ResizableArray.foreach$(ResizableArray.scala:55)\r\n\tat scala.collection.mutable.ArrayBuffer.foreach(ArrayBuffer.scala:49)\r\n\tat org.apache.spark.scheduler.DAGScheduler.abortStage(DAGScheduler.scala:2791)\r\n\tat org.apache.spark.scheduler.DAGScheduler.$anonfun$handleTaskSetFailed$1(DAGScheduler.scala:1247)\r\n\tat org.apache.spark.scheduler.DAGScheduler.$anonfun$handleTaskSetFailed$1$adapted(DAGScheduler.scala:1247)\r\n\tat scala.Option.foreach(Option.scala:407)\r\n\tat org.apache.spark.scheduler.DAGScheduler.handleTaskSetFailed(DAGScheduler.scala:1247)\r\n\tat org.apache.spark.scheduler.DAGSchedulerEventProcessLoop.doOnReceive(DAGScheduler.scala:3060)\r\n\tat org.apache.spark.scheduler.DAGSchedulerEventProcessLoop.onReceive(DAGScheduler.scala:2994)\r\n\tat org.apache.spark.scheduler.DAGSchedulerEventProcessLoop.onReceive(DAGScheduler.scala:2983)\r\n\tat org.apache.spark.util.EventLoop$$anon$1.run(EventLoop.scala:49)\r\n\tat org.apache.spark.scheduler.DAGScheduler.runJob(DAGScheduler.scala:989)\r\n\tat org.apache.spark.SparkContext.runJob(SparkContext.scala:2398)\r\n\tat org.apache.spark.SparkContext.runJob(SparkContext.scala:2419)\r\n\tat org.apache.spark.SparkContext.runJob(SparkContext.scala:2438)\r\n\tat org.apache.spark.SparkContext.runJob(SparkContext.scala:2463)\r\n\tat org.apache.spark.rdd.RDD.$anonfun$collect$1(RDD.scala:1049)\r\n\tat org.apache.spark.rdd.RDDOperationScope$.withScope(RDDOperationScope.scala:151)\r\n\tat org.apache.spark.rdd.RDDOperationScope$.withScope(RDDOperationScope.scala:112)\r\n\tat org.apache.spark.rdd.RDD.withScope(RDD.scala:410)\r\n\tat org.apache.spark.rdd.RDD.collect(RDD.scala:1048)\r\n\tat org.apache.spark.sql.execution.SparkPlan.executeCollect(SparkPlan.scala:448)\r\n\tat org.apache.spark.sql.Dataset.$anonfun$collectToPython$1(Dataset.scala:4148)\r\n\tat org.apache.spark.sql.Dataset.$anonfun$withAction$2(Dataset.scala:4322)\r\n\tat org.apache.spark.sql.execution.QueryExecution$.withInternalError(QueryExecution.scala:546)\r\n\tat org.apache.spark.sql.Dataset.$anonfun$withAction$1(Dataset.scala:4320)\r\n\tat org.apache.spark.sql.execution.SQLExecution$.$anonfun$withNewExecutionId$6(SQLExecution.scala:125)\r\n\tat org.apache.spark.sql.execution.SQLExecution$.withSQLConfPropagated(SQLExecution.scala:201)\r\n\tat org.apache.spark.sql.execution.SQLExecution$.$anonfun$withNewExecutionId$1(SQLExecution.scala:108)\r\n\tat org.apache.spark.sql.SparkSession.withActive(SparkSession.scala:900)\r\n\tat org.apache.spark.sql.execution.SQLExecution$.withNewExecutionId(SQLExecution.scala:66)\r\n\tat org.apache.spark.sql.Dataset.withAction(Dataset.scala:4320)\r\n\tat org.apache.spark.sql.Dataset.collectToPython(Dataset.scala:4145)\r\n\tat java.base/jdk.internal.reflect.NativeMethodAccessorImpl.invoke0(Native Method)\r\n\tat java.base/jdk.internal.reflect.NativeMethodAccessorImpl.invoke(NativeMethodAccessorImpl.java:75)\r\n\tat java.base/jdk.internal.reflect.DelegatingMethodAccessorImpl.invoke(DelegatingMethodAccessorImpl.java:52)\r\n\tat java.base/java.lang.reflect.Method.invoke(Method.java:580)\r\n\tat py4j.reflection.MethodInvoker.invoke(MethodInvoker.java:244)\r\n\tat py4j.reflection.ReflectionEngine.invoke(ReflectionEngine.java:374)\r\n\tat py4j.Gateway.invoke(Gateway.java:282)\r\n\tat py4j.commands.AbstractCommand.invokeMethod(AbstractCommand.java:132)\r\n\tat py4j.commands.CallCommand.execute(CallCommand.java:79)\r\n\tat py4j.ClientServerConnection.waitForCommands(ClientServerConnection.java:182)\r\n\tat py4j.ClientServerConnection.run(ClientServerConnection.java:106)\r\n\tat java.base/java.lang.Thread.run(Thread.java:1583)\r\n"
     ]
    }
   ],
   "source": [
    "from pyspark.sql import *  \n",
    "from pyspark.sql.functions import *  \n",
    "from pyspark.sql.types import *  \n",
    "import numpy as np    \n",
    "import pandas as pd\n",
    "\n",
    "\n",
    "reviews_pandas_df= result.select(\"*\").toPandas()"
   ]
  },
  {
   "cell_type": "code",
   "execution_count": 6,
   "id": "655cf539",
   "metadata": {},
   "outputs": [
    {
     "name": "stdout",
     "output_type": "stream",
     "text": [
      "+--------+------+--------------------+\n",
      "| book_id|rating|             user_id|\n",
      "+--------+------+--------------------+\n",
      "|25913122|     4|2ce9cf233c1503ed5...|\n",
      "|27823971|     3|2ce9cf233c1503ed5...|\n",
      "|25796670|     2|2ce9cf233c1503ed5...|\n",
      "|25778324|     5|2ce9cf233c1503ed5...|\n",
      "|18712886|     2|2ce9cf233c1503ed5...|\n",
      "|28963557|     5|2ce9cf233c1503ed5...|\n",
      "|25469092|     4|2ce9cf233c1503ed5...|\n",
      "|22037944|     4|2ce9cf233c1503ed5...|\n",
      "|18499402|     4|2ce9cf233c1503ed5...|\n",
      "|26798985|     4|2ce9cf233c1503ed5...|\n",
      "|25432891|     4|2ce9cf233c1503ed5...|\n",
      "| 3373897|     2|2ce9cf233c1503ed5...|\n",
      "|16080337|     4|2ce9cf233c1503ed5...|\n",
      "|18076991|     4|2ce9cf233c1503ed5...|\n",
      "|18483104|     3|2ce9cf233c1503ed5...|\n",
      "|20560907|     3|2ce9cf233c1503ed5...|\n",
      "|17661625|     4|2ce9cf233c1503ed5...|\n",
      "|20613470|     5|2ce9cf233c1503ed5...|\n",
      "|22037901|     5|2ce9cf233c1503ed5...|\n",
      "|13266803|     5|2ce9cf233c1503ed5...|\n",
      "+--------+------+--------------------+\n",
      "only showing top 20 rows\n",
      "\n"
     ]
    }
   ],
   "source": [
    "# Assuming df is your Spark DataFrame\n",
    "columns_to_drop = [\"review_text\"]  # List of columns to drop\n",
    "\n",
    "# Drop the specified columns\n",
    "result = result.drop(*columns_to_drop)\n",
    "\n",
    "# Show the result\n",
    "result.show()"
   ]
  },
  {
   "cell_type": "code",
   "execution_count": 7,
   "id": "a86bb344",
   "metadata": {},
   "outputs": [],
   "source": [
    "from pyspark.sql import *  \n",
    "from pyspark.sql.functions import *  \n",
    "from pyspark.sql.types import *  \n",
    "import numpy as np    \n",
    "import pandas as pd\n",
    "\n",
    "\n",
    "reviews_pandas_df= result.select(\"*\").toPandas()"
   ]
  },
  {
   "cell_type": "code",
   "execution_count": null,
   "id": "2ec5d206",
   "metadata": {},
   "outputs": [],
   "source": [
    "reviews_pandas_df"
   ]
  },
  {
   "cell_type": "code",
   "execution_count": null,
   "id": "0aea57f7",
   "metadata": {},
   "outputs": [],
   "source": [
    "# Stop SparkSession\n",
    "spark.stop()"
   ]
  }
 ],
 "metadata": {
  "kernelspec": {
   "display_name": "Python 3 (ipykernel)",
   "language": "python",
   "name": "python3"
  },
  "language_info": {
   "codemirror_mode": {
    "name": "ipython",
    "version": 3
   },
   "file_extension": ".py",
   "mimetype": "text/x-python",
   "name": "python",
   "nbconvert_exporter": "python",
   "pygments_lexer": "ipython3",
   "version": "3.11.5"
  }
 },
 "nbformat": 4,
 "nbformat_minor": 5
}
